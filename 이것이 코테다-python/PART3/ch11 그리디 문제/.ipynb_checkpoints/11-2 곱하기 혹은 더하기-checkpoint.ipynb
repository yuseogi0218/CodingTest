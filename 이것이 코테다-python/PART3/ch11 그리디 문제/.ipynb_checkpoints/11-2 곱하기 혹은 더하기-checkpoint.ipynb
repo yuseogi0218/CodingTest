{
 "cells": [
  {
   "cell_type": "markdown",
   "metadata": {},
   "source": [
    "## 문제\n",
    "- 각 자리가 숫자로만 이루어진 문자열 S\n",
    "- 왼쪽부터 오른쪽으로 모든 숫자에 'X' 혹은 '+'연산자를 넣어 겨로가값이 가장 큰 수를 구하는 프로그램\n",
    "- 모든 연산은 왼쪽에서 부터 순서대로 이루어짐\n",
    "\n",
    "## 입력\n",
    "- 첫째줄에 여러개의 숫자로 구성된 하나의 문자열 S (1<= S의 길이 <=20)\n",
    "\n",
    "## 출력\n",
    "- 만들어질 수 있는 가장 큰 수"
   ]
  },
  {
   "cell_type": "markdown",
   "metadata": {},
   "source": [
    "**아이디어**\n",
    "- 0이 나오면 '+' 연산\n",
    "- 그렇지 않으면 'X' 연산"
   ]
  },
  {
   "cell_type": "code",
   "execution_count": 3,
   "metadata": {},
   "outputs": [
    {
     "name": "stdout",
     "output_type": "stream",
     "text": [
      "567\n",
      "210\n"
     ]
    }
   ],
   "source": [
    "S = input()\n",
    "\n",
    "result = 1\n",
    "\n",
    "for i in S:\n",
    "    n = int(i)\n",
    "    if n == 0:\n",
    "        pass\n",
    "    else:\n",
    "        result *= n\n",
    "        \n",
    "print(result)"
   ]
  }
 ],
 "metadata": {
  "kernelspec": {
   "display_name": "Python 3",
   "language": "python",
   "name": "python3"
  },
  "language_info": {
   "codemirror_mode": {
    "name": "ipython",
    "version": 3
   },
   "file_extension": ".py",
   "mimetype": "text/x-python",
   "name": "python",
   "nbconvert_exporter": "python",
   "pygments_lexer": "ipython3",
   "version": "3.7.9"
  }
 },
 "nbformat": 4,
 "nbformat_minor": 4
}
