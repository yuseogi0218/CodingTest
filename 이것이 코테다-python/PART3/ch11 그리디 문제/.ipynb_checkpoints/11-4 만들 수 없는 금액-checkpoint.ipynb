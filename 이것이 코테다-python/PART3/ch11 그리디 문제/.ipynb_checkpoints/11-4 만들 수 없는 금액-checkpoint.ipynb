{
 "cells": [
  {
   "cell_type": "markdown",
   "metadata": {},
   "source": [
    "## 문제\n",
    "- N개의 동전을 이용하여 만들 수 없는 양의 정수 금액 중 최솟값을 구하는 프로그램\n",
    "\n",
    "## 입력\n",
    "- 첫째 줄에는 동전의 개수 N (1<= N <=1,000)\n",
    "- 둘째 줄에는 각 동전의 화폐를 나타내는 N개의 자연수가 공백으로 주어짐\n",
    "\n",
    "## 출력\n",
    "- 주어진 동전들로 만들 수 없는 양의 정수 금액 중 최솟값"
   ]
  },
  {
   "cell_type": "markdown",
   "metadata": {},
   "source": [
    "**아이디어**\n",
    "- 1부터 차례대로 확인"
   ]
  },
  {
   "cell_type": "code",
   "execution_count": 1,
   "metadata": {},
   "outputs": [
    {
     "name": "stdout",
     "output_type": "stream",
     "text": [
      "5\n",
      "3 2 1 1 9\n",
      "8\n"
     ]
    }
   ],
   "source": [
    "N = int(input())\n",
    "data = list(map(int,input().split()))\n",
    "data.sort()\n",
    "\n",
    "target = 1\n",
    "for x in data:\n",
    "    if target <x :\n",
    "        break\n",
    "    target += x \n",
    "\n",
    "print(target)"
   ]
  }
 ],
 "metadata": {
  "kernelspec": {
   "display_name": "Python 3",
   "language": "python",
   "name": "python3"
  },
  "language_info": {
   "codemirror_mode": {
    "name": "ipython",
    "version": 3
   },
   "file_extension": ".py",
   "mimetype": "text/x-python",
   "name": "python",
   "nbconvert_exporter": "python",
   "pygments_lexer": "ipython3",
   "version": "3.7.9"
  }
 },
 "nbformat": 4,
 "nbformat_minor": 4
}
