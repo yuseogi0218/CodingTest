{
 "cells": [
  {
   "cell_type": "markdown",
   "metadata": {},
   "source": [
    "## 문제 \n",
    "- 회전판에 먹어야 할 음식 N개\n",
    "    - 각 음식에는 1부터 N까지 번호가 붙어있음.\n",
    "    - 각 음식을 섭취한는데 일정 시간이 소요\n",
    "- 규칙\n",
    "    - 1. 1번 음식부터 먹기 시작, 회전판은 번호가 증가하는 순서대로 음식을 가져다 줌\n",
    "    - 2. 마지막 번호의 음식을 섭취한 후에는 회전판에 의해 다시 1번 음식이 앞으로 옴\n",
    "    - 3. 음식 하나를 1초동안 섭취한 후 남은 음식은 그대로 두고, 다음 음식을 섭취\n",
    "        - 다음 음식 : 아직 남은 음식 중 다음으로 섭취해야 할 가장 가까운 번호의 음식\n",
    "    - 4. 회전판이 다음 음식을 가져다 주는데 걸리는 시간은 없음\n",
    "- K초 후에 네트워크 장애로 인해 잠시 중단 -> 네트워크 정상화 후 다시 먹을때 몇 번 음식을 섭취 해야 하는지\n",
    "\n",
    "## 입력\n",
    "- food_times\n",
    "    - 각 음식을 모두 먹는데 필요한 시간이 담겨 있는 배열\n",
    "- solution 함수 \n",
    "    - 네트워크 장애가 발생한 시간 K초가 매개변수로 주어진 함수\n",
    "    - 몇번 음식부터 다시 섭취하면 되는지 return\n",
    "\n",
    "## 출력\n",
    "- 네트워크 정상화 후 몇 번 음식을 섭취해야 하는지 \n",
    "- 만약 더 섭취해야 할 음식이 없다면 -1반환"
   ]
  },
  {
   "cell_type": "markdown",
   "metadata": {},
   "source": [
    "**아이디어**\n",
    "- "
   ]
  }
 ],
 "metadata": {
  "kernelspec": {
   "display_name": "Python 3",
   "language": "python",
   "name": "python3"
  },
  "language_info": {
   "codemirror_mode": {
    "name": "ipython",
    "version": 3
   },
   "file_extension": ".py",
   "mimetype": "text/x-python",
   "name": "python",
   "nbconvert_exporter": "python",
   "pygments_lexer": "ipython3",
   "version": "3.7.9"
  }
 },
 "nbformat": 4,
 "nbformat_minor": 4
}
