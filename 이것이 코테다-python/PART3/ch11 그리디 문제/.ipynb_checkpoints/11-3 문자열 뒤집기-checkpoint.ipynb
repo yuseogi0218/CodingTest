{
 "cells": [
  {
   "cell_type": "markdown",
   "metadata": {},
   "source": [
    "## 문제\n",
    "- 0과 1로만 이루어진 문자열 S\n",
    "- 문자열 S에 있는 모든 숫자를 전부 같게 만든다.\n",
    "    - 연속된 하나 이상의 숫자를 잡고 모두 뒤집는 것\n",
    "    \n",
    "## 입력\n",
    "- 첫째 줄에 0과 1로만 이루어진 문자열 S (S의 길이 <=100만)\n",
    "\n",
    "## 출력\n",
    "- 첫째 줄에 다솜이가 해야 하는 행동의 최소 횟수"
   ]
  },
  {
   "cell_type": "markdown",
   "metadata": {},
   "source": [
    "**아이디어**\n",
    "- 전부 0으로 바꾸는 경우\n",
    "- 전부 1로 바꾸는 경우"
   ]
  },
  {
   "cell_type": "code",
   "execution_count": 7,
   "metadata": {},
   "outputs": [
    {
     "name": "stdout",
     "output_type": "stream",
     "text": [
      "000110\n",
      "1\n"
     ]
    }
   ],
   "source": [
    "S = input()\n",
    "\n",
    "count_1 = 0\n",
    "count_0 = 0\n",
    "\n",
    "# 첫번째 자리 문자 처리\n",
    "if int(S[0]) == 1:\n",
    "    count_0 += 1\n",
    "else:\n",
    "    count_1 += 1\n",
    "    \n",
    "for i in range(len(S)-1):\n",
    "    if S[i] != S[i+1]:\n",
    "        if int(S[i+1]) == 1:\n",
    "            count_0 += 1\n",
    "        else:\n",
    "            count_1 += 1\n",
    "\n",
    "print(min(count_0, count_1))"
   ]
  }
 ],
 "metadata": {
  "kernelspec": {
   "display_name": "Python 3",
   "language": "python",
   "name": "python3"
  },
  "language_info": {
   "codemirror_mode": {
    "name": "ipython",
    "version": 3
   },
   "file_extension": ".py",
   "mimetype": "text/x-python",
   "name": "python",
   "nbconvert_exporter": "python",
   "pygments_lexer": "ipython3",
   "version": "3.7.9"
  }
 },
 "nbformat": 4,
 "nbformat_minor": 4
}
