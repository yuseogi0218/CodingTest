{
 "cells": [
  {
   "cell_type": "markdown",
   "metadata": {},
   "source": [
    "## 문제\n",
    "- 모험가 N명\n",
    "- 공포도가 X인 모험가는 반드시 X명 이상으로 구성한 모험가 그룹에 참여\n",
    "- N명의 모험가에 대한 공포도가 주어질때, 여행을 떠날 수 있는 그룹 수의 최댓값\n",
    "- 몇명의 모험가는 마을에 그대로 남아 있어도 된다.\n",
    "\n",
    "## 입력\n",
    "- 첫째줄에 모험가의 수 N(1<= N <=100,000)\n",
    "- 둘째줄에 각 모험가의 공포도의 값 이 공백으로 구분\n",
    "\n",
    "## 출력\n",
    "- 여행을 떠날 수 있는 그룹 수의 최댓값 출력"
   ]
  },
  {
   "cell_type": "markdown",
   "metadata": {},
   "source": [
    "**아이디어**\n",
    "- 공포도를 오름차순으로 정렬\n",
    "- '현재 그룹에 포함된 모험가의 수' >= '현재 확인하고 있는 공포도'\n",
    "    - 그룹으로 설정"
   ]
  },
  {
   "cell_type": "code",
   "execution_count": 1,
   "metadata": {},
   "outputs": [
    {
     "name": "stdout",
     "output_type": "stream",
     "text": [
      "5\n",
      "2 3 1 2 2\n",
      "2\n"
     ]
    }
   ],
   "source": [
    "# 풀이\n",
    "n = int(input())\n",
    "data = list(map(int,input().split()))\n",
    "data.sort()\n",
    "\n",
    "result = 0 #그룹의 개수\n",
    "count = 0 # 현재 그룹에 포함된 모험가의 수\n",
    "\n",
    "for i in data:\n",
    "    count += 1\n",
    "    if count >= i:\n",
    "        result += 1\n",
    "        count = 0\n",
    "        \n",
    "print(result)"
   ]
  }
 ],
 "metadata": {
  "kernelspec": {
   "display_name": "Python 3",
   "language": "python",
   "name": "python3"
  },
  "language_info": {
   "codemirror_mode": {
    "name": "ipython",
    "version": 3
   },
   "file_extension": ".py",
   "mimetype": "text/x-python",
   "name": "python",
   "nbconvert_exporter": "python",
   "pygments_lexer": "ipython3",
   "version": "3.7.9"
  }
 },
 "nbformat": 4,
 "nbformat_minor": 4
}
