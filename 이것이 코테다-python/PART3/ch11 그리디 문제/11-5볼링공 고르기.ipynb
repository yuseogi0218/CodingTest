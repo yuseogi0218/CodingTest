{
 "cells": [
  {
   "cell_type": "markdown",
   "metadata": {},
   "source": [
    "## 문제\n",
    "- 볼링공 N개\n",
    "    - 무게 (1~M)\n",
    "    - 같은 무게의 공이 여러 개 있을 수 있다.\n",
    "- 두 사람이 볼링공을 고르는 경우의 수를 구하는 프로그램\n",
    "    - 서로 다른 무게를 골라야 한다.\n",
    "    \n",
    "## 입력\n",
    "- 첫째 줄에 볼링공의 개수 N개, 공의 최대 무게 M이 공백으로 구분되어 주어짐\n",
    "    - (1<= N <=1,000), (1<= M <=10)\n",
    "- 둘째 줄에 각 볼링공의 무게 K가 공백으로 구분되어 순서대로 자연수 형태로 주어짐.\n",
    "\n",
    "## 출력\n",
    "- 첫째 줄에 두 사람이 볼링공을 고르는 경우의 수를 출력"
   ]
  },
  {
   "cell_type": "markdown",
   "metadata": {},
   "source": [
    "**아이디어**\n",
    "- 첫번째 사람이 먼저 선택 - 차례대로\n",
    "- 두번째 사람은 첫번째 사람이 선택한 무게와 다른 공을 다 고름"
   ]
  },
  {
   "cell_type": "code",
   "execution_count": 3,
   "metadata": {
    "scrolled": true
   },
   "outputs": [
    {
     "name": "stdout",
     "output_type": "stream",
     "text": [
      "8 5\n",
      "1 5 4 3 2 4 5 2\n",
      "50\n"
     ]
    }
   ],
   "source": [
    "N, M = map(int,input().split())\n",
    "data = list(map(int,input().split()))\n",
    "data.sort()\n",
    "\n",
    "result = 0\n",
    "\n",
    "for i in data:\n",
    "    for j in data:\n",
    "        if i != j:\n",
    "            result += 1\n",
    "            \n",
    "print(result)"
   ]
  }
 ],
 "metadata": {
  "kernelspec": {
   "display_name": "Python 3",
   "language": "python",
   "name": "python3"
  },
  "language_info": {
   "codemirror_mode": {
    "name": "ipython",
    "version": 3
   },
   "file_extension": ".py",
   "mimetype": "text/x-python",
   "name": "python",
   "nbconvert_exporter": "python",
   "pygments_lexer": "ipython3",
   "version": "3.7.9"
  }
 },
 "nbformat": 4,
 "nbformat_minor": 4
}
