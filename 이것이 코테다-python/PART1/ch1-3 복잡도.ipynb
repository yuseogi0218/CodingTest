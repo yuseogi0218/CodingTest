{
 "cells": [
  {
   "cell_type": "markdown",
   "metadata": {},
   "source": [
    "## 복잡도\n",
    "### - 알고리즘의 성능을 나타내는 척도\n",
    "\n",
    "- 시간 복잡도\n",
    "    - 특정한 크기의 입력에 대하여 알고리즘이 얼마나 오래 걸리는지를 의미\n",
    "- 공간 복잡도\n",
    "    - 특정한 크기의 입력에 대하여 알고리즘이 얼마나 많은 메모리를 차지하는지를 의미\n",
    "\n",
    "### 시간복잡도와 공간복잡도는 거래관계 성립"
   ]
  },
  {
   "cell_type": "markdown",
   "metadata": {},
   "source": [
    "## 시간 복잡도\n",
    "- 표기 - Big-O 표기법\n",
    "    - 가장 빠르게 증가하는 항만을 고려하는 표기법\n",
    "        - 소스코드를 정확하게 분석한 뒤에 시간 복잡도 계산\n",
    "        - 차수가 작은 항들을 완전히 무시하는것도 곤란\n",
    "    - 연산\n",
    "        - 사칙연산, 비교연산과 같은 기본 연산을 의미\n",
    "    - N의 범위에 따라 특정 시간 복잡도 이내의 알고리즘을 설계하여야 한다."
   ]
  },
  {
   "cell_type": "markdown",
   "metadata": {},
   "source": [
    "## 공간 복잡도\n",
    "- 표기 - Big-O 표기법\n",
    "    - 메모리 사용량 제한\n",
    "    - "
   ]
  },
  {
   "cell_type": "markdown",
   "metadata": {},
   "source": [
    "## 시간과 메모리 측정"
   ]
  },
  {
   "cell_type": "markdown",
   "metadata": {},
   "source": [
    "- 수행 시간 측정\n",
    "    - 알고리즘의 효율성을 측정하는 가장 기본적인 방법"
   ]
  },
  {
   "cell_type": "code",
   "execution_count": 1,
   "metadata": {},
   "outputs": [
    {
     "name": "stdout",
     "output_type": "stream",
     "text": [
      "time : 0.0\n"
     ]
    }
   ],
   "source": [
    "import time\n",
    "start_time = time.time() # 시작 시간\n",
    "\n",
    "# 프로그램 소스코드\n",
    "\n",
    "end_time = time.time() # 종료 시간\n",
    "\n",
    "print(\"time :\",end_time - start_time)"
   ]
  }
 ],
 "metadata": {
  "kernelspec": {
   "display_name": "Python 3",
   "language": "python",
   "name": "python3"
  },
  "language_info": {
   "codemirror_mode": {
    "name": "ipython",
    "version": 3
   },
   "file_extension": ".py",
   "mimetype": "text/x-python",
   "name": "python",
   "nbconvert_exporter": "python",
   "pygments_lexer": "ipython3",
   "version": "3.7.9"
  }
 },
 "nbformat": 4,
 "nbformat_minor": 4
}
