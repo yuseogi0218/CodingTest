{
 "cells": [
  {
   "cell_type": "markdown",
   "metadata": {},
   "source": [
    "## 문제\n",
    "- 바닥 - 가로 : N, 세로 : 2\n",
    "- 덮개 3개\n",
    "    - 1 X 2\n",
    "    - 2 X 1\n",
    "    - 2 X 2\n",
    "- 바닥을 채우는 모든 경우의 수 출력\n",
    "\n",
    "## 입력\n",
    "- 첫째줄에 N (1<= N <=1,000)\n",
    "\n",
    "## 출력\n",
    "- 모든 경우의 수를 796,796으로 나눈 나머지를 출력한다."
   ]
  },
  {
   "cell_type": "markdown",
   "metadata": {},
   "source": [
    "**아이디어**\n",
    "- i-1까지 덮개가 이미 채워져 있다면\n",
    "    - 나머지를 2 X 1 크기의 덮개로 채움\n",
    "- i-2까지 덮개가 이미 채워져 있다면\n",
    "    - 나머지를 1 X 2 크기의 덮개로 채움\n",
    "    - 나머지를 2 X 2 크기의 덮개로 채움\n",
    "- 점화식\n",
    "    - <i>a<sub>i</sub> = a<sub>i-1</sub> + a<sub>i-2</sub> X 2</i>"
   ]
  },
  {
   "cell_type": "code",
   "execution_count": 1,
   "metadata": {},
   "outputs": [
    {
     "name": "stdout",
     "output_type": "stream",
     "text": [
      "3\n",
      "5\n"
     ]
    }
   ],
   "source": [
    "#입력\n",
    "n = int(input())\n",
    "\n",
    "# 풀이\n",
    "d = [0] * 1001\n",
    "\n",
    "d[1] = 1\n",
    "d[2] = 3\n",
    "for i in range(3,n+1):\n",
    "    d[i] = (d[i-1] + d[i-2]*2)%796796\n",
    "    \n",
    "# 출력\n",
    "print(d[n])"
   ]
  }
 ],
 "metadata": {
  "kernelspec": {
   "display_name": "Python 3",
   "language": "python",
   "name": "python3"
  },
  "language_info": {
   "codemirror_mode": {
    "name": "ipython",
    "version": 3
   },
   "file_extension": ".py",
   "mimetype": "text/x-python",
   "name": "python",
   "nbconvert_exporter": "python",
   "pygments_lexer": "ipython3",
   "version": "3.7.9"
  }
 },
 "nbformat": 4,
 "nbformat_minor": 4
}
