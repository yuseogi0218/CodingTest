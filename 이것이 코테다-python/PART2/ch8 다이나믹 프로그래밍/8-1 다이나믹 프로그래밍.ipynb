{
 "cells": [
  {
   "cell_type": "markdown",
   "metadata": {},
   "source": [
    "## 중복되는 연산을 줄이자.\n",
    "- **다이나믹 프로그래밍**\n",
    "    - = 동적 계획법\n",
    "    - 연산 속도와 메모리 공간을 최대한으로 활용할 수 있는 효율적인 알고리즘을 작성해야한다.\n",
    "        - 여기서 어떤 문제는 **메모리 공간을 약간 더 사용하여 연산 속도를 비약적으로 증가** 시키는 방법\n",
    "    - 사용하기 위한 문제의 조건\n",
    "        - 큰 문제를 작은 문제로 나눌 수 있다.\n",
    "        - 작은 문제에서 구한 정답은 그것을 포함하는 큰 문제에서도 동일하다.\n",
    "    - 기법\n",
    "        - 메모이제이션\n",
    "            - = 캐싱\n",
    "            - 한번 구한 결과를 메모리 공간에 메모해두고,\n",
    "            - 같은 식을 다시 호출하면 메모한 결과를 그대로 가져로는 기법\n",
    "- 예시 - 피보나치 수열"
   ]
  },
  {
   "cell_type": "markdown",
   "metadata": {},
   "source": [
    "- 점화식을 이용한 재귀적 풀이\n",
    "    - 시간 복잡도\n",
    "        - O(2<sup>N</sup>)"
   ]
  },
  {
   "cell_type": "code",
   "execution_count": 1,
   "metadata": {},
   "outputs": [],
   "source": [
    "def fibo(n):\n",
    "    if n == 1 or n == 2:\n",
    "        return 1\n",
    "    return fibo(n-1) + fibo(n-2)"
   ]
  },
  {
   "cell_type": "markdown",
   "metadata": {},
   "source": [
    "- 다이나믹 프로그래밍을 이용한 재귀적 풀이\n",
    "    - 시간 복잡도\n",
    "        - O(N)"
   ]
  },
  {
   "cell_type": "code",
   "execution_count": 2,
   "metadata": {},
   "outputs": [],
   "source": [
    "# 한번 계산될 결과를 메모이제이션하기 위한 리스트 초기화\n",
    "d = [0]*100\n",
    "\n",
    "def fibo(n):\n",
    "    if n == 1 or n == 2:\n",
    "        return 1\n",
    "    if d[n] != 0:\n",
    "        return d[n]\n",
    "    d[n] = fibo(n-1) + fibo(n-2)\n",
    "    return d[n]"
   ]
  },
  {
   "cell_type": "markdown",
   "metadata": {},
   "source": [
    "- 탑다운 방식 - 하향식\n",
    "    - 재귀함수를 이용한 다이나믹 프로그래밍 소스코드 작성 방식\n",
    "    - 큰문제를 해결하기 위해 작은 문제를 호출\n",
    "- 보텀업 방식 - 상향식\n",
    "    - 단순히 반복문을 이용하여 소스코드를 작성하는 방식\n",
    "    - 작은 문제부터 차근차근 답을 도출"
   ]
  }
 ],
 "metadata": {
  "kernelspec": {
   "display_name": "Python 3",
   "language": "python",
   "name": "python3"
  },
  "language_info": {
   "codemirror_mode": {
    "name": "ipython",
    "version": 3
   },
   "file_extension": ".py",
   "mimetype": "text/x-python",
   "name": "python",
   "nbconvert_exporter": "python",
   "pygments_lexer": "ipython3",
   "version": "3.7.9"
  }
 },
 "nbformat": 4,
 "nbformat_minor": 4
}
