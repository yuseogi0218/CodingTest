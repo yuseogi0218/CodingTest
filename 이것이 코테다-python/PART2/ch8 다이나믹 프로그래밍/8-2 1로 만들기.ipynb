{
 "cells": [
  {
   "cell_type": "markdown",
   "metadata": {},
   "source": [
    "## 문제\n",
    "- 정수 X에 사용할 수 있는 연산\n",
    "    - X가 5로 나누어 떨어지면, 5로 나눈다.\n",
    "    - X가 3으로 나누어 떨어지면, 3으로 나눈다.\n",
    "    - X가 2로 나누어 떨어지면, 2로 나눈다.\n",
    "    - X에서 1을 뺀다.\n",
    "- 위의 연산 4개를 사용해서 1을 만들려고 한다.\n",
    "- 연산을 사용하는 횟수의 최솟값 출력\n",
    "\n",
    "## 입력\n",
    "- 첫째줄에 정수 X가 주어진다. (1<= X <=30,000)\n",
    "\n",
    "## 출력\n",
    "- 연산을 하는 횟수의 최솟값 출력"
   ]
  },
  {
   "cell_type": "markdown",
   "metadata": {},
   "source": [
    "**아이디어**\n",
    "- 점화식을 토대로 한 다이나믹 프로그래밍 - 보텀업\n",
    "    - 점화식\n",
    "        - <i> a<sub>i</sub> = min(a<sub>i-1</sub>,a<sub>i/2</sub>,a<sub>i/3</sub>,a<sub>i/5</sub>) + 1 </i>"
   ]
  },
  {
   "cell_type": "code",
   "execution_count": 3,
   "metadata": {},
   "outputs": [
    {
     "name": "stdout",
     "output_type": "stream",
     "text": [
      "26\n",
      "3\n"
     ]
    }
   ],
   "source": [
    "# 정수 X 입력받기\n",
    "n = int(input())\n",
    "\n",
    "# 메모이제이션을 위한 DP테이블 초기화\n",
    "d = [0]*30001\n",
    "\n",
    "# 다이나믹 프로그래밍 - 보텀업\n",
    "for i in range(2,n+1):\n",
    "    # 현재의 수에서 1을 빼는 경우\n",
    "    d[i] = d[i-1] + 1\n",
    "    # 현재의 수가 2로 나누어 떨어지는 경우\n",
    "    if i % 2 == 0:\n",
    "        d[i] = min(d[i], d[i//2]+1)\n",
    "    # 현재의 수가 3으로 나누어 떨어지는 경우\n",
    "    if i % 3 == 0:\n",
    "        d[i] = min(d[i],d[i//3] + 1)\n",
    "    # 현재의 수가 5로 나누어 떨어지는 경우\n",
    "    if i % 5 == 0:\n",
    "        d[i] = min(d[i],d[i//5] + 1)\n",
    "        \n",
    "print(d[n])"
   ]
  }
 ],
 "metadata": {
  "kernelspec": {
   "display_name": "Python 3",
   "language": "python",
   "name": "python3"
  },
  "language_info": {
   "codemirror_mode": {
    "name": "ipython",
    "version": 3
   },
   "file_extension": ".py",
   "mimetype": "text/x-python",
   "name": "python",
   "nbconvert_exporter": "python",
   "pygments_lexer": "ipython3",
   "version": "3.7.9"
  }
 },
 "nbformat": 4,
 "nbformat_minor": 4
}
