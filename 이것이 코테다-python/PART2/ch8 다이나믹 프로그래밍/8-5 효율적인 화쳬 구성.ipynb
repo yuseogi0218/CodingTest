{
 "cells": [
  {
   "cell_type": "markdown",
   "metadata": {},
   "source": [
    "## 문제\n",
    "- 화폐의 종류 N\n",
    "- 특정 금액 M원\n",
    "- N개의 종류의 화폐를 이용해서 그 합이 M원이 되도록 하는 최소한의 화폐 개수 \n",
    "\n",
    "## 입력\n",
    "- 첫째줄에 N, M이 주어진다. (1<= N 100, 1<= M <=10,000)\n",
    "- 이후 N개의 줄에 각 화폐의 가치가 주어진다. (10,000보다 작거나 같은 자연수)\n",
    "\n",
    "## 출력\n",
    "- 첫째줄에 M원을 만들기 위한 최고한의 화폐 개수\n",
    "- 불가능할때 -1 출력"
   ]
  },
  {
   "cell_type": "markdown",
   "metadata": {},
   "source": [
    "**아이디어**\n",
    "- 적은 금액부터 큰 금액까디 확인하며 차례대로 만들 수 있는 최소한의 화폐 개수를 찾음\n",
    "- a<sub>i</sub>\n",
    "    - 금액 i를 만들 수 있는 최소한의 화폐 개수\n",
    "- k\n",
    "    - 화폐단위\n",
    "- 점화식\n",
    "    - <i>a<sub>i-k</sub></i> - 금액 i-k를 만들수 있는 최소한의 화폐 개수\n",
    "        - <i>a<sub>i-k</sub></i> 이 존재할 경우\n",
    "            - <i>a<sub>i</sub> = min(a<sub>i</sub>, a<sub>i-k</sub>+1)</i>\n",
    "        - <i>a<sub>i-k</sub></i> 이 존재하지 않는 경우\n",
    "            - <i>a<sub>i</sub> = 10,001</i>"
   ]
  },
  {
   "cell_type": "code",
   "execution_count": 2,
   "metadata": {},
   "outputs": [
    {
     "name": "stdout",
     "output_type": "stream",
     "text": [
      "2 15\n",
      "2\n",
      "3\n",
      "5\n"
     ]
    }
   ],
   "source": [
    "# 입력\n",
    "n,m = map(int,input().split())\n",
    "array = []\n",
    "for i in range(n):\n",
    "    array.append(int(input()))\n",
    "    \n",
    "# 풀이\n",
    "d = [10001] * (m+1)\n",
    "\n",
    "d[0] = 0\n",
    "for i in range(n):\n",
    "    for j in range(array[i], m+1):\n",
    "        if d[j-array[i]] != 10001:\n",
    "            d[j] = min(d[j], d[j-array[i]]+1)\n",
    "            \n",
    "# 출력\n",
    "if d[m] == 10001:\n",
    "    print(-1)\n",
    "else:\n",
    "    print(d[m])"
   ]
  }
 ],
 "metadata": {
  "kernelspec": {
   "display_name": "Python 3",
   "language": "python",
   "name": "python3"
  },
  "language_info": {
   "codemirror_mode": {
    "name": "ipython",
    "version": 3
   },
   "file_extension": ".py",
   "mimetype": "text/x-python",
   "name": "python",
   "nbconvert_exporter": "python",
   "pygments_lexer": "ipython3",
   "version": "3.7.9"
  }
 },
 "nbformat": 4,
 "nbformat_minor": 4
}
