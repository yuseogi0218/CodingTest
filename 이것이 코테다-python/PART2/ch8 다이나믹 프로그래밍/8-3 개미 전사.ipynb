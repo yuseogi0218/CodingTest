{
 "cells": [
  {
   "cell_type": "markdown",
   "metadata": {},
   "source": [
    "## 문제\n",
    "- 식량창고가 일직선상에 있다.\n",
    "- 서로 인접한 식량창고가 공격받으면 바로 알아챈다.\n",
    "- 얻을 수 있는 식량의 최댓값을 구하는 프로그램\n",
    "\n",
    "## 입력\n",
    "- 첫째줄에 식량창고의 개수 N (3<= N <=100)\n",
    "- 둘째줄에 공백으로 구분되어 각 식량창고에 저장된 식량의 개수 K가 주어진다. (0<= K <=1,000)\n",
    "\n",
    "## 출력\n",
    "- 첫째줄에 개미 전사가 얻을 수 있는 식량의 최댓값을 출력"
   ]
  },
  {
   "cell_type": "markdown",
   "metadata": {},
   "source": [
    "**아이디어**\n",
    "- (i-1)번째 식량창고를 털기로 결정할 경우 -> 현재의 식량창고 털 수 없음\n",
    "    - a<sub>i-1</sub>\n",
    "- (i-2)번째 식량창고를 털기로 결정할 경우 -> 현재의 식량챵고를 털 수 있음\n",
    "    - a<sub>i-2</sub> + k<sub>i</sub>\n",
    "- 두 경우중 더 큰 경우를 계속해서 선택 -> 점화식\n",
    "    - <i>a<sub>i</sub> = max(a<sub>i-1</sub>,a<sub>i-2</sub>+k<sub>i</sub>)</i>"
   ]
  },
  {
   "cell_type": "code",
   "execution_count": 1,
   "metadata": {},
   "outputs": [
    {
     "name": "stdout",
     "output_type": "stream",
     "text": [
      "4\n",
      "1 3 1 5\n",
      "8\n"
     ]
    }
   ],
   "source": [
    "# 입력\n",
    "n = int(input())\n",
    "# 모든 식량 정보 입력받기\n",
    "array = list(map(int,input().split()))\n",
    "\n",
    "# 풀이\n",
    "d = [0]*100\n",
    "\n",
    "d[0] = array[0]\n",
    "d[1] = max(array[0],array[1])\n",
    "\n",
    "for i in range(2,n):\n",
    "    d[i] = max(d[i-1], d[i-2]+array[i])\n",
    "    \n",
    "# 출력\n",
    "print(d[n-1])"
   ]
  }
 ],
 "metadata": {
  "kernelspec": {
   "display_name": "Python 3",
   "language": "python",
   "name": "python3"
  },
  "language_info": {
   "codemirror_mode": {
    "name": "ipython",
    "version": 3
   },
   "file_extension": ".py",
   "mimetype": "text/x-python",
   "name": "python",
   "nbconvert_exporter": "python",
   "pygments_lexer": "ipython3",
   "version": "3.7.9"
  }
 },
 "nbformat": 4,
 "nbformat_minor": 4
}
