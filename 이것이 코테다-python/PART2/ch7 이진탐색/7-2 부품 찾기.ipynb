{
 "cells": [
  {
   "cell_type": "markdown",
   "metadata": {},
   "source": [
    "## 문제\n",
    "- 동빈의 매장에 부품 N개 가 있다.\n",
    "- 손님이 부품 M개를 주문\n",
    "- 동빈의 매장에 부품이 다 있는지 확인\n",
    "    - 있으면 yes, 없으면 no \n",
    "    \n",
    "## 입력\n",
    "- 첫째줄에 정수 N (1<= N <=1,000,000)\n",
    "- 둘째줄에 공백으로 구분하여 N개의 정수 (1<= 정수 <=1,000,000)\n",
    "- 셋째줄에 정수 M (1<= M <=1,000,000)\n",
    "- 넷째줄에 공백으로 구분하여 M개의 정수 (1<= 정수 <=1,000,000)\n",
    "\n",
    "## 출력\n",
    "- 각 부품이 존재하면 yes 없으면 no 출력"
   ]
  },
  {
   "cell_type": "markdown",
   "metadata": {},
   "source": [
    "**아이디어**\n",
    "- 이진탐색 으로 해결"
   ]
  },
  {
   "cell_type": "code",
   "execution_count": 6,
   "metadata": {},
   "outputs": [
    {
     "name": "stdout",
     "output_type": "stream",
     "text": [
      "5\n",
      "8 3 7 9 2\n",
      "3\n",
      "5 7 9\n",
      "no yes yes "
     ]
    }
   ],
   "source": [
    "# 이진 탐색 소스코드 구현\n",
    "def binary_search(array,target,start,end):\n",
    "    if start > end:\n",
    "        return None\n",
    "    mid = (start + end) // 2\n",
    "    if array[mid] == target:\n",
    "        return mid\n",
    "    elif array[mid] > target:\n",
    "        return binary_search(array,target,start,mid-1)\n",
    "    else:\n",
    "        return binary_search(array,target,mid+1, end)\n",
    "        \n",
    "# N입력\n",
    "N = int(input())\n",
    "# 가게에 있는 물품 리스트 입력\n",
    "N_array = list(map(int,input().split()))\n",
    "# M입력\n",
    "M = int(input())\n",
    "# 주문서 물품 리스트 입력\n",
    "M_array = list(map(int,input().split()))\n",
    "\n",
    "# 주문서 물품 리스트의 물품 하나씩 확인\n",
    "for m in M_array:\n",
    "    result = binary_search(N_array,m,0,N-1)\n",
    "    if result == None:\n",
    "        print(\"no\",end= \" \")\n",
    "    else:\n",
    "        print(\"yes\",end = \" \")"
   ]
  },
  {
   "cell_type": "code",
   "execution_count": 4,
   "metadata": {},
   "outputs": [
    {
     "name": "stdout",
     "output_type": "stream",
     "text": [
      "5\n",
      "8 3 7 9 2\n",
      "3\n",
      "5 7 9\n",
      "no yes yes "
     ]
    }
   ],
   "source": [
    "# 집합 자료형으로 풀이\n",
    "n = int(input())\n",
    "array = set(map(int,input().split()))\n",
    "\n",
    "m = int(input())\n",
    "m_array = list(map(int,input().split()))\n",
    "\n",
    "for i in m_array:\n",
    "    if i in array:\n",
    "        print(\"yes\",end= \" \")\n",
    "    else:\n",
    "        print(\"no\", end = \" \")"
   ]
  }
 ],
 "metadata": {
  "kernelspec": {
   "display_name": "Python 3",
   "language": "python",
   "name": "python3"
  },
  "language_info": {
   "codemirror_mode": {
    "name": "ipython",
    "version": 3
   },
   "file_extension": ".py",
   "mimetype": "text/x-python",
   "name": "python",
   "nbconvert_exporter": "python",
   "pygments_lexer": "ipython3",
   "version": "3.7.9"
  }
 },
 "nbformat": 4,
 "nbformat_minor": 4
}
