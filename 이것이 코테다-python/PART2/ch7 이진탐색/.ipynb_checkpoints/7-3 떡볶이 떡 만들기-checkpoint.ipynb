{
 "cells": [
  {
   "cell_type": "markdown",
   "metadata": {},
   "source": [
    "## 문제\n",
    "- 떡 절단기에 높이(H)를 지정하면 줄지어진 떡을 한 번에 절단한다.\n",
    "- 높이가 H보다 긴 떡은 H의 위 부분이 잘리고 \n",
    "- 낮은 떡을 잘리지 않는다.\n",
    "- 손님이 왔을때 요청한 총 길이가 M일때 적어도 M만큼의 떡을 얻기 위해 절단기에 설정할 수 있는 높이의 최댓값을 구하여라\n",
    "\n",
    "## 입력\n",
    "- 첫째줄에 떡의 개수 N과 손님이 요청한 떡의 길이 M이 주어진다. (1<= N <=1,000,000), (1<= M <=2,000,000)\n",
    "- 둘째줄에 개별 떡의 길이가 주어진다.\n",
    "\n",
    "## 출력\n",
    "- 적어도 M만큼의 떡을 가져가기 위해 절단기에 설정할 수 있는 높이의 최댓값"
   ]
  },
  {
   "cell_type": "markdown",
   "metadata": {},
   "source": [
    "**아이디어**\n",
    "- 이진 탐색 과정\n",
    "    - 시작점 = 0, 끝점 = 개별 떡의 길이의 최댓값\n",
    "    - H = 중간점 지정\n",
    "        - 손님이 가져가는 떡 = (개별 떡의 길이 - H)의 총 합\n",
    "        - 떡의 양이 부족한 경우\n",
    "            - 왼쪽 부분 탐색\n",
    "        - 떡의 양이 많은 경우\n",
    "            - 오른쪽 부분 탐색\n",
    "        - 떡의 양이 같은 경우\n",
    "            - return result"
   ]
  },
  {
   "cell_type": "code",
   "execution_count": 4,
   "metadata": {},
   "outputs": [
    {
     "name": "stdout",
     "output_type": "stream",
     "text": [
      "4 6\n",
      "19 15 10 17\n",
      "15\n"
     ]
    }
   ],
   "source": [
    "n,m = map(int,input().split())\n",
    "n_array = list(map(int,input().split()))\n",
    "\n",
    "# 이진 탐색 구현\n",
    "start = 0\n",
    "end = max(n_array)\n",
    "h = 0\n",
    "while(start <= end):\n",
    "    total = 0 # (개별 떡의 길이 - H)의 총 합\n",
    "    mid = (start + end)//2\n",
    "    for x in n_array:\n",
    "        if x > mid:\n",
    "            total += x-mid\n",
    "            \n",
    "    if total < m:\n",
    "        end = mid-1\n",
    "    else:\n",
    "        h = mid #최대한 덜 잘랐을 때가 정담이므로 여기에 result 기록\n",
    "        start = mid+1\n",
    "        \n",
    "print(h)"
   ]
  }
 ],
 "metadata": {
  "kernelspec": {
   "display_name": "Python 3",
   "language": "python",
   "name": "python3"
  },
  "language_info": {
   "codemirror_mode": {
    "name": "ipython",
    "version": 3
   },
   "file_extension": ".py",
   "mimetype": "text/x-python",
   "name": "python",
   "nbconvert_exporter": "python",
   "pygments_lexer": "ipython3",
   "version": "3.7.9"
  }
 },
 "nbformat": 4,
 "nbformat_minor": 4
}
