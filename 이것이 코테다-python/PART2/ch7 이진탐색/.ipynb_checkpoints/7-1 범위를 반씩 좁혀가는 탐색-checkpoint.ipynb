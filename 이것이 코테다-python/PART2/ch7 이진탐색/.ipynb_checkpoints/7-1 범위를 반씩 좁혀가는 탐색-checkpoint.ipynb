{
 "cells": [
  {
   "cell_type": "markdown",
   "metadata": {},
   "source": [
    "## 순차 탐색\n",
    "- 리스트 안에 있는 특정한 데이터를 찾기 위해 앞에서부터 데이터를 하나씩 차례대로 확인하는 방법\n",
    "- 정렬되지 않은 리스트에서 데이터를 찾을때 사용\n",
    "- 특정 리스트의 개수를 세는 count()메소드\n",
    "- 시간이 오래걸림\n",
    "- 시간 복잡도\n",
    "    - 최악의 경우 O(N)"
   ]
  },
  {
   "cell_type": "code",
   "execution_count": 4,
   "metadata": {},
   "outputs": [
    {
     "name": "stdout",
     "output_type": "stream",
     "text": [
      "target값의 위치는 6입니다.\n"
     ]
    }
   ],
   "source": [
    "# 구현\n",
    "array = [0,2,4,6,8,10,12,16,52,18]\n",
    "\n",
    "def sequential_search(array, target):\n",
    "    # 각각의 원소를 하나씩 확인\n",
    "    for i in range(len(array)):\n",
    "        # 현재의 원소와 target값이 같은지 확인\n",
    "        if array[i] == target:\n",
    "            return i+1 # 현재의 위치 반환\n",
    "        \n",
    "result = sequential_search(array,10)\n",
    "\n",
    "print(\"target값의 위치는 {0}입니다.\".format(result))"
   ]
  },
  {
   "cell_type": "markdown",
   "metadata": {},
   "source": [
    "## 이진탐색 : 반으로 쪼개면서 탐색하기\n",
    "- 찾으려는 데이터와 중간점 위치에 있는 데이터를 반복적으로 비교해서 원하는 데이터를 찾는 과정\n",
    "- 배열 내부의 데이터가 이미 정렬이 완료된 상태여야지 사용 가능\n",
    "    - 아주 빠른 속도로 검색\n",
    "- 3개의 변수 사용\n",
    "    - 시작점, 끝점, 중간점\n",
    "        - 중간점 : (시작점+끝점)//2\n",
    "- 시간 복잡도\n",
    "    - O(log<sub>2</sub>N)"
   ]
  },
  {
   "cell_type": "code",
   "execution_count": 8,
   "metadata": {},
   "outputs": [
    {
     "name": "stdout",
     "output_type": "stream",
     "text": [
      "10 7\n",
      "1 3 5 7 9 11 13 15 17 19\n",
      "target값의 위치는4입니다.\n"
     ]
    }
   ],
   "source": [
    "# 구현 - 재귀적\n",
    "\n",
    "def binary_search(array,target, start, end):\n",
    "    if start > end :\n",
    "        return None\n",
    "    mid = (start + end) //2\n",
    "    if array[mid] == target :\n",
    "        return mid\n",
    "    # 중간접의 값보다 target값이 작은 경우 왼쪽확인\n",
    "    elif array[mid] > target:\n",
    "        return binary_search(array,target,start, mid-1)\n",
    "    # 중간점의 값보다 target값이 큰 경우 오른쪽 확인\n",
    "    else:\n",
    "        return binary_search(array,target,mid+1,end)\n",
    "    \n",
    "# n,target입력\n",
    "# - n = 리스트 개수, target = 찾고자 하는 값\n",
    "n, target = map(int,input().split())\n",
    "# 리스트 입력\n",
    "array = list(map(int,input().split()))\n",
    "\n",
    "# 이진탐색 수행\n",
    "result = binary_search(array,target,0,n-1)\n",
    "if result == None:\n",
    "    print(\"찾고자 하는 값이 없습니다.\")\n",
    "else:\n",
    "    print(f\"target값의 위치는{result+1}입니다.\")"
   ]
  },
  {
   "cell_type": "code",
   "execution_count": 9,
   "metadata": {},
   "outputs": [
    {
     "name": "stdout",
     "output_type": "stream",
     "text": [
      "10 7\n",
      "1 3 5 7 9 11 13 15 17 19\n",
      "target값의 위치는4입니다.\n"
     ]
    }
   ],
   "source": [
    "# 구현 - 반복문\n",
    "\n",
    "def binary_search(array,target,start,end):\n",
    "    while start <= end:\n",
    "        mid = (start+end) //2\n",
    "        if array[mid] == target:\n",
    "            return mid\n",
    "        elif array[mid] > target:\n",
    "            end = mid-1\n",
    "        else:\n",
    "            start = mid +1\n",
    "    return None\n",
    "\n",
    "# n,target입력\n",
    "# - n = 리스트 개수, target = 찾고자 하는 값\n",
    "n, target = map(int,input().split())\n",
    "# 리스트 입력\n",
    "array = list(map(int,input().split()))\n",
    "\n",
    "# 이진탐색 수행\n",
    "result = binary_search(array,target,0,n-1)\n",
    "if result == None:\n",
    "    print(\"찾고자 하는 값이 없습니다.\")\n",
    "else:\n",
    "    print(f\"target값의 위치는{result+1}입니다.\")"
   ]
  },
  {
   "cell_type": "markdown",
   "metadata": {},
   "source": [
    "## 트리 자료구조\n",
    "- 노드와 노드의 연결로 표현\n",
    "    - 노드\n",
    "        - 어떠한 정보를 가지고 있는 개체\n",
    "- 트리 자료구조의 몇가지 특징\n",
    "    - 트리는 부모노드와 자식노드의 관계로 표현\n",
    "    - 루트 노드\n",
    "        - 트리의 최상단 노드\n",
    "    - 단말(리프) 노드\n",
    "        - 트리의 최하단 노드\n",
    "    - 서브 트리\n",
    "        - 트리의 일부분인 트리\n",
    "    - 계층적이고 정렬된 데이터를 다루기에 적합\n",
    "- 큰 데이터를 처리하는 소프트웨어는 데이터를 트리 자료구조로 저장해서 빠르게 검색이 가능"
   ]
  },
  {
   "cell_type": "markdown",
   "metadata": {},
   "source": [
    "## 이진 탐색 트리\n",
    "- 이진 탐색이 동작할 수 있도록 고안된, 효율적인 탐색이 가능한 자료 구조\n",
    "- 특징\n",
    "    - 왼쪽 자식노드 < 부모노드 < 오른쪽 자식노드"
   ]
  },
  {
   "cell_type": "markdown",
   "metadata": {},
   "source": [
    "### 빠르게 입력받기\n",
    "- sys라이브러리에 readline()함수 활용\n",
    "- 주피터에서는 안됨"
   ]
  },
  {
   "cell_type": "code",
   "execution_count": 12,
   "metadata": {},
   "outputs": [
    {
     "name": "stdout",
     "output_type": "stream",
     "text": [
      "\n"
     ]
    }
   ],
   "source": [
    "import sys\n",
    "\n",
    "input_data = sys.stdin.readline().rstrip()\n",
    "# rstrip() = 엔터가 줄바꿈 기호로 입력되어, 이 공백 문자 제거를 위해 사용\n",
    "\n",
    "print(input_data)"
   ]
  }
 ],
 "metadata": {
  "kernelspec": {
   "display_name": "Python 3",
   "language": "python",
   "name": "python3"
  },
  "language_info": {
   "codemirror_mode": {
    "name": "ipython",
    "version": 3
   },
   "file_extension": ".py",
   "mimetype": "text/x-python",
   "name": "python",
   "nbconvert_exporter": "python",
   "pygments_lexer": "ipython3",
   "version": "3.7.9"
  }
 },
 "nbformat": 4,
 "nbformat_minor": 4
}
