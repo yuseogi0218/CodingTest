{
 "cells": [
  {
   "cell_type": "markdown",
   "metadata": {},
   "source": [
    "## 문제\n",
    "- N X M 크기의 직사각형 미로\n",
    "- 캐릭터 위치 - (1,1)\n",
    "    - 한 칸씩 이동\n",
    "- 출구 - (N,M)\n",
    "- 맵\n",
    "    - 괴물 - 0\n",
    "    - 괴물 없음 - 1\n",
    "- 탈출할 수 있는 최소 움직임 수\n",
    "    - 시작, 마지막 포함\n",
    "    \n",
    "## 입력\n",
    "- 첫째 줄에 N,M (4<= N,M <=200)\n",
    "- N개 줄에 맵 표시\n",
    "\n",
    "## 출력\n",
    "- 최소 이동 칸의 개수"
   ]
  },
  {
   "cell_type": "markdown",
   "metadata": {},
   "source": [
    "**아이디어**\n",
    "- BFS\n",
    "    - 시작지점에서 부터 가까운 노드부터 차례대로 그래프의 모든 노드 탐색\n",
    "    - 새롭게 방문한 방 +1"
   ]
  },
  {
   "cell_type": "code",
   "execution_count": 2,
   "metadata": {},
   "outputs": [
    {
     "name": "stdout",
     "output_type": "stream",
     "text": [
      "5 6\n",
      "101010\n",
      "111111\n",
      "000001\n",
      "111111\n",
      "111111\n",
      "10\n"
     ]
    }
   ],
   "source": [
    "from collections import deque\n",
    "\n",
    "# 입력\n",
    "n,m = map(int,input().split())\n",
    "# 2차원 맵 입력\n",
    "graph = []\n",
    "for i in range(n):\n",
    "    graph.append(list(map(int,input())))\n",
    "    \n",
    "# 풀이\n",
    "\n",
    "# 이동할 네 방향 정의\n",
    "dx = [-1,1,0,0]\n",
    "dy = [0,0,-1,1]\n",
    "\n",
    "# BFS 소스코드 구현\n",
    "def bfs(x,y):\n",
    "    queue = deque()\n",
    "    queue.append((x,y))\n",
    "    \n",
    "    # 큐가 빌 때 까지 반복\n",
    "    while queue:\n",
    "        x,y = queue.popleft()\n",
    "        # 현재위치에서 4방향 확인\n",
    "        for i in range(4):\n",
    "            nx = x + dx[i]\n",
    "            ny = y + dy[i]\n",
    "            # 미로 찾기 공간을 벗어나는 경우 무시\n",
    "            if nx <0 or nx>=n or ny<0 or ny>=m:\n",
    "                continue\n",
    "            # 벽인 경우 무시\n",
    "            if graph[nx][ny] == 0:\n",
    "                continue\n",
    "            # 해당 노드를 처음 방문하는 경우에만 최단 거리 기록\n",
    "            if graph[nx][ny] == 1:\n",
    "                graph[nx][ny] = graph[x][y] + 1\n",
    "                queue.append((nx,ny))\n",
    "    # 가장 오른쪽 아래까지의 최단 거리 반환\n",
    "    return graph[n-1][m-1]\n",
    "\n",
    "print(bfs(0,0))"
   ]
  }
 ],
 "metadata": {
  "kernelspec": {
   "display_name": "Python 3",
   "language": "python",
   "name": "python3"
  },
  "language_info": {
   "codemirror_mode": {
    "name": "ipython",
    "version": 3
   },
   "file_extension": ".py",
   "mimetype": "text/x-python",
   "name": "python",
   "nbconvert_exporter": "python",
   "pygments_lexer": "ipython3",
   "version": "3.7.9"
  }
 },
 "nbformat": 4,
 "nbformat_minor": 4
}
