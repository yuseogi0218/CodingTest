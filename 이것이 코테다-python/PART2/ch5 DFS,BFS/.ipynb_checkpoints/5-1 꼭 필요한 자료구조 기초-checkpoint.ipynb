{
 "cells": [
  {
   "cell_type": "markdown",
   "metadata": {},
   "source": [
    "- 탐색\n",
    "    - 많은 양의 데이터 중에서 원하는 데이터를 찾는 과정\n",
    "    - 대표 알고리즘\n",
    "        - DFS, BFS\n",
    "- 자료구조\n",
    "    - 데이터를 표현하고 관리하고 처리하기 위한 구조\n",
    "    - ex)\n",
    "        - 스택, 큐\n",
    "            - 삽입(Push) : 데이터를 삽입한다.\n",
    "                - 오버플로 : 꽉찬 자료구조에 삽입할때 발생\n",
    "            - 삭제(Pop) : 데이터를 삭제한다.\n",
    "                - 언더플로 : 비어있는 자료구조에 삭제할때 발생"
   ]
  },
  {
   "cell_type": "markdown",
   "metadata": {},
   "source": [
    "## 스택 - Stack\n",
    "- 선입후출 or 후입선출 구조\n",
    "- 파이썬 구현\n",
    "    - 기본 리스트에서 \n",
    "        - 삽입 - append()\n",
    "        - 삭제 - pop()"
   ]
  },
  {
   "cell_type": "code",
   "execution_count": 2,
   "metadata": {},
   "outputs": [
    {
     "data": {
      "text/plain": [
       "1"
      ]
     },
     "execution_count": 2,
     "metadata": {},
     "output_type": "execute_result"
    }
   ],
   "source": [
    "# 선언\n",
    "stack = []\n",
    "# 삽입\n",
    "stack.append(1)\n",
    "# 삭제\n",
    "stack.pop()"
   ]
  },
  {
   "cell_type": "markdown",
   "metadata": {},
   "source": [
    "## 큐 - Queue\n",
    "- 선입선출 구조\n",
    "- 파이썬 구현\n",
    "    - deque 자료구조 활용\n",
    "        - collections 모듈에서 import deque\n",
    "        - 삽입 - append()\n",
    "        - 삭제 - popleft()\n",
    "        - 리스트로 표현\n",
    "            - list(deque 객체)"
   ]
  },
  {
   "cell_type": "code",
   "execution_count": 4,
   "metadata": {},
   "outputs": [
    {
     "data": {
      "text/plain": [
       "1"
      ]
     },
     "execution_count": 4,
     "metadata": {},
     "output_type": "execute_result"
    }
   ],
   "source": [
    "from collections import deque\n",
    "\n",
    "# 선언\n",
    "queue = deque()\n",
    "# 삽입\n",
    "queue.append(1)\n",
    "# 삭제\n",
    "queue.popleft()"
   ]
  },
  {
   "cell_type": "markdown",
   "metadata": {},
   "source": [
    "## 재귀 함수 - Recursive Function\n",
    "- 자기 자신을 다시 호출하는 함수\n",
    "- 무한대로 재귀 호출을 진행 할 수 없다.\n",
    "    - **종료 조건을 꼭 명시 해야함.**\n",
    "- 컴퓨터 내부에서 스택 자료구조를 이용\n",
    "    - 후입 선출\n",
    "        - 가장 나중에 호출된 함수가 가장 먼저 끝나야 함.\n",
    "- 장점\n",
    "    - 코드가 간결해 진다. - 반복문에 비해\n",
    "        - 수학의 점화식을 코드화 시켰기 때문"
   ]
  },
  {
   "cell_type": "code",
   "execution_count": 5,
   "metadata": {},
   "outputs": [
    {
     "data": {
      "text/plain": [
       "120"
      ]
     },
     "execution_count": 5,
     "metadata": {},
     "output_type": "execute_result"
    }
   ],
   "source": [
    "def factorial_recursive(n):\n",
    "    # 종료조건\n",
    "    if n<= 1:\n",
    "        return 1\n",
    "    # n! = n*(n-1)!\n",
    "    return n*factorial_recursive(n-1)\n",
    "\n",
    "factorial_recursive(5)"
   ]
  }
 ],
 "metadata": {
  "kernelspec": {
   "display_name": "Python 3",
   "language": "python",
   "name": "python3"
  },
  "language_info": {
   "codemirror_mode": {
    "name": "ipython",
    "version": 3
   },
   "file_extension": ".py",
   "mimetype": "text/x-python",
   "name": "python",
   "nbconvert_exporter": "python",
   "pygments_lexer": "ipython3",
   "version": "3.7.9"
  }
 },
 "nbformat": 4,
 "nbformat_minor": 4
}
