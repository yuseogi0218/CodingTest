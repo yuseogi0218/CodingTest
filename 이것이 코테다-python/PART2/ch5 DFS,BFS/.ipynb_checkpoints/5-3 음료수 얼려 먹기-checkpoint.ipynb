{
 "cells": [
  {
   "cell_type": "markdown",
   "metadata": {},
   "source": [
    "## 문제\n",
    "- N X M 크기의 얼음 틀\n",
    "    - 구멍이 뚫려 있는 부분 - 0\n",
    "        - 상하좌우로 붙어 있는 경우 서로 연결되어 있음\n",
    "    - 칸막이가 존재하는 부분 - 1\n",
    "- 생성되는 총 아이스크림의 개수\n",
    "\n",
    "# 입력\n",
    "- 첫째줄에 N,M (1<= N,M <=1,000)\n",
    "- 둘째줄부터 N+1번째 줄까지 얼음틀의 형태가 주어진다.\n",
    "\n",
    "# 출력\n",
    "- 한번에 만들 수 있는 아이스크림의 개수 출력"
   ]
  },
  {
   "cell_type": "markdown",
   "metadata": {},
   "source": [
    "**아이디어**\n",
    "- DFS 해결\n",
    "    - 상하좌우로 연결되어 있는노드를 묶음\n",
    "    - 묶음을 찾는 프로그램"
   ]
  },
  {
   "cell_type": "code",
   "execution_count": 6,
   "metadata": {},
   "outputs": [
    {
     "name": "stdout",
     "output_type": "stream",
     "text": [
      "4 5\n",
      "00110\n",
      "00011\n",
      "11111\n",
      "00000\n",
      "3\n"
     ]
    }
   ],
   "source": [
    "# 입력\n",
    "N,M = map(int,input().split())\n",
    "graph = []\n",
    "for i in range(N):\n",
    "    graph.append(list(map(int,input())))\n",
    "    \n",
    "# 풀이\n",
    "def dfs(x,y):\n",
    "    # 주어진 범위를 벗어나는 경우에는 즉시 종료\n",
    "    if x<=-1 or x>=N or y<= -1 or y>= M:\n",
    "        return False\n",
    "    \n",
    "    # 현재 노드를 아직 방문하지 않았다면\n",
    "    if graph[x][y] == 0:\n",
    "        # 해당 노드 방문 처리\n",
    "        graph[x][y] = 1\n",
    "        # 상하좌우 모드 재귀적으로 호출\n",
    "        dfs(x-1,y)\n",
    "        dfs(x,y-1)\n",
    "        dfs(x+1,y)\n",
    "        dfs(x,y+1)\n",
    "        return True\n",
    "    return False\n",
    "\n",
    "# 모든 노드(위치)에 대하여 음료수 채우기\n",
    "result = 0\n",
    "for i in range(N):\n",
    "    for j in range(M):\n",
    "        # 현재위치에서 DFS 수행\n",
    "        if dfs(i,j) == True:\n",
    "            result += 1\n",
    "            \n",
    "# 출력            \n",
    "print(result)"
   ]
  }
 ],
 "metadata": {
  "kernelspec": {
   "display_name": "Python 3",
   "language": "python",
   "name": "python3"
  },
  "language_info": {
   "codemirror_mode": {
    "name": "ipython",
    "version": 3
   },
   "file_extension": ".py",
   "mimetype": "text/x-python",
   "name": "python",
   "nbconvert_exporter": "python",
   "pygments_lexer": "ipython3",
   "version": "3.7.9"
  }
 },
 "nbformat": 4,
 "nbformat_minor": 4
}
