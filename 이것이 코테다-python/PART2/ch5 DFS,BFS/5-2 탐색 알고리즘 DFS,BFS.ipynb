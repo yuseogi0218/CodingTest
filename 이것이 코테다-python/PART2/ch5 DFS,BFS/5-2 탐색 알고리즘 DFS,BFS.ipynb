{
 "cells": [
  {
   "cell_type": "markdown",
   "metadata": {},
   "source": [
    "## 그래프\n",
    "- 기본 구조\n",
    "    - 노드 = 정점\n",
    "    - 간선\n",
    "        - 두 노드를 연결 함\n",
    "    - 두 노드는 인접하다\n",
    "        - 두 노드가 간섭으로 연결됨"
   ]
  },
  {
   "cell_type": "markdown",
   "metadata": {},
   "source": [
    "- 표현 방식-1\n",
    "    - 인접 행렬\n",
    "        - 2차원 배열(리스트)로 그래프의 연결관계를 표현하는 방식\n",
    "        - 노드 - 행, 열\n",
    "        - 간선 - 데이터\n",
    "            - 자기자신 - 0\n",
    "            - 연결된 노드 \n",
    "                - 간선 값\n",
    "            - 연결 되어 있지 않은 노드\n",
    "                - 무한 = 999999999 or 987654321"
   ]
  },
  {
   "cell_type": "code",
   "execution_count": 1,
   "metadata": {},
   "outputs": [],
   "source": [
    "# 무한의 비용 선언\n",
    "INF = 999999999\n",
    "\n",
    "# 2차원 배열로 그래프 표현\n",
    "graph = [\n",
    "    [0,7,5],\n",
    "    [7,0,INF],\n",
    "    [5,INF,0]\n",
    "]"
   ]
  },
  {
   "cell_type": "markdown",
   "metadata": {},
   "source": [
    "- 표현 방식-2\n",
    "    - 인접 리스트\n",
    "        - 리스트로 그래프의 연결관계를 표현하는 방식\n",
    "        - 모든 노드에 연결된 노드에 대한 정보를 차례대로 연결하여 저장\n",
    "        - 구현\n",
    "            - 2차원 리스트 이용"
   ]
  },
  {
   "cell_type": "code",
   "execution_count": 2,
   "metadata": {},
   "outputs": [
    {
     "name": "stdout",
     "output_type": "stream",
     "text": [
      "[[(1, 7), (2, 5)], [(0, 7)], [(0, 5)]]\n"
     ]
    }
   ],
   "source": [
    "# 행이 3개인 2차원 리스트로 인접 리스트 표현\n",
    "graph = [[] for _ in range(3)]\n",
    "\n",
    "# 노드 0에 연결된 노드 정보 저장(노드, 간선)\n",
    "graph[0].append((1,7)) # 노드 0,1 은 간선 7에 의해 연결되어있다.\n",
    "graph[0].append((2,5))\n",
    "\n",
    "graph[1].append((0,7)) # 노드 1,0 은 간선 7에 의해 연결되어있다.\n",
    "\n",
    "graph[2].append((0,5))\n",
    "\n",
    "print(graph)"
   ]
  },
  {
   "cell_type": "markdown",
   "metadata": {},
   "source": [
    "- 두 표현 방식 비교\n",
    "    - 메모리 측면\n",
    "        - 인접 행렬 방식 > 인접 리스트 방식\n",
    "            - 인접 행렬 방식은 모든 관계를 저장\n",
    "            - 인접 리스트 방식은 연결된 정보만을 저장 -> 메모리를 효율적으로 사용\n",
    "    - 읽는 속도\n",
    "        - 인접 행렬 방식 < 인접 리스트 방식\n",
    "            - 인접 리스트 방식은 연결된 데이터를 하나씩 확인"
   ]
  },
  {
   "cell_type": "markdown",
   "metadata": {},
   "source": [
    "## DFS - 깊이 우선 탐색\n",
    "- Depth-First-Search\n",
    "- 그래프에서 깊은 부분을 우선적으로 탐색하는 알고리즘\n",
    "- 스택 자료구조에 기초 + 재귀함수 이용\n",
    "- 데이터의 개수가 N개인 경우 시간복잡도 - O(N)\n",
    "- 방법\n",
    "    - 1) 탐색 시작 노드를 스택에 삽입하고 방문 처리를 한다.\n",
    "    - 2) 스택의 최상단 노드에 방문하지 않은 인접 노드가 있는지 확인\n",
    "        - 2-1) 있으면\n",
    "            - 그 인접 노드를 스택에 넣고 방문 처리를 한다.\n",
    "                - 번호가 낮은 순대로 한다.\n",
    "        - 2-2) 없으면 \n",
    "            - 스택에서 최 상단 노드를 꺼냄\n",
    "   - 3)  2번의 과정을 더 이상 수행할 수 없을 때까지 반복한다."
   ]
  },
  {
   "cell_type": "code",
   "execution_count": 4,
   "metadata": {},
   "outputs": [
    {
     "name": "stdout",
     "output_type": "stream",
     "text": [
      "1 2 7 6 8 3 4 5 "
     ]
    }
   ],
   "source": [
    "# 구현 - 인접 리스트 방식의 그래프\n",
    "def dfs(graph, v, visited):\n",
    "    # - 그래프, 시작 노드, 각 노드가 방문된 정보)\n",
    "    \n",
    "    # 현재 노드를 방문 처리\n",
    "    visited[v] = True\n",
    "    print(v, end=\" \") # 노드의 탐색 순서 출력\n",
    "    \n",
    "    # 현재 노드와 연결된 다른 노드를 재귀적으로 방문\n",
    "    for i in graph[v]: # i = 현재 노드와 연결된 다른 노드\n",
    "        if not visited[i]: # 방문 안했던 노드 이면\n",
    "            dfs(graph, i,visited) # 재귀함수로 반복 시행\n",
    "                # 종료 조건\n",
    "                    # - visited[i] == True 일때 - 모두 방문 했을때\n",
    "                    \n",
    "# graph\n",
    "graph = [\n",
    "    [], # 0노드 없음\n",
    "    [2,3,8],\n",
    "    [1,7],\n",
    "    [1,4,5],\n",
    "    [3,5],\n",
    "    [3,4],\n",
    "    [7],\n",
    "    [2,6,8],\n",
    "    [1,7]\n",
    "]\n",
    "\n",
    "# 각 노드가 방문된 정보\n",
    "visited = [False] * 9\n",
    "\n",
    "# 정의된 DFS 함수 호출\n",
    "dfs(graph, 1, visited)\n",
    "        "
   ]
  },
  {
   "cell_type": "markdown",
   "metadata": {},
   "source": [
    "## BFS - 너비 우선 탐색\n",
    "- Breadth First Search\n",
    "- 가까운 노드부터 탐색하는 알고리즘\n",
    "- 큐 자료구조를 이용\n",
    "- 방법\n",
    "    - 1) 탐색 시작 노드를 큐에 삽입하고 방문 처리를 한다.\n",
    "    - 2) 큐에서 노드를 꺼냄\n",
    "        - 2-1) 해당 노드의 인접 노드 중에서 방문하지 않은 노드를 모두 큐에 삽입후 방문 처리\n",
    "            - 방문하지 않은 노드들중 작은 노드들 부터 큐에 삽입\n",
    "    - 3) 2번 과정을 더이상 수행할 수 없을 때까지 반복"
   ]
  },
  {
   "cell_type": "code",
   "execution_count": 6,
   "metadata": {},
   "outputs": [
    {
     "name": "stdout",
     "output_type": "stream",
     "text": [
      "1 2 3 8 7 4 5 6 "
     ]
    }
   ],
   "source": [
    "# 구현 - 인접 리스트 방식의 그래프\n",
    "from collections import deque\n",
    "\n",
    "# BFS 메서드 정의\n",
    "def bfs(graph, start, visited):\n",
    "    # 시작 노드를 큐에 삽입\n",
    "    queue = deque([start])\n",
    "    # 현재 노드를 방문 처리\n",
    "    visited[start] = True\n",
    "    \n",
    "    # 큐가 빌 때까지 반복\n",
    "    while queue:\n",
    "        # 큐에서 하나의 원소를 뽑아 출력\n",
    "        v = queue.popleft()\n",
    "        print(v, end = \" \")\n",
    "        \n",
    "        # 해당 노드의 인접 노드중 방문 하지 않은 원소들을 큐에 삽입\n",
    "        for i in graph[v]:\n",
    "            if not visited[i]:\n",
    "                queue.append(i)\n",
    "                # 모두 방문 처리\n",
    "                visited[i] = True\n",
    "                \n",
    "\n",
    "graph = [\n",
    "    [], # 0노드 없음\n",
    "    [2,3,8],\n",
    "    [1,7],\n",
    "    [1,4,5],\n",
    "    [3,5],\n",
    "    [3,4],\n",
    "    [7],\n",
    "    [2,6,8],\n",
    "    [1,7]\n",
    "]\n",
    "\n",
    "# 각 노드가 방문된 정보\n",
    "visited = [False] * 9\n",
    "\n",
    "# 정의된 BFS 함수 호출\n",
    "bfs(graph, 1, visited)\n",
    "        "
   ]
  }
 ],
 "metadata": {
  "kernelspec": {
   "display_name": "Python 3",
   "language": "python",
   "name": "python3"
  },
  "language_info": {
   "codemirror_mode": {
    "name": "ipython",
    "version": 3
   },
   "file_extension": ".py",
   "mimetype": "text/x-python",
   "name": "python",
   "nbconvert_exporter": "python",
   "pygments_lexer": "ipython3",
   "version": "3.7.9"
  }
 },
 "nbformat": 4,
 "nbformat_minor": 4
}
