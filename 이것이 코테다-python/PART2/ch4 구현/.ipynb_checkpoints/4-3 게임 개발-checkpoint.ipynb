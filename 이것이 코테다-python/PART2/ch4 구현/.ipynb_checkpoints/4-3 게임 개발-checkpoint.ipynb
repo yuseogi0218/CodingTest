{
 "cells": [
  {
   "cell_type": "markdown",
   "metadata": {},
   "source": [
    "## 문제\n",
    "- 맵\n",
    "    - N X M 크기의 직사각형\n",
    "    - 육지 또는 바다\n",
    "    - 맵의 각 칸은 (A,B)로 표현\n",
    "        - A - 북쪽으로부터 떨어진 거리\n",
    "        - B - 서쪽으로부터 떨어진 거리\n",
    "- 캐릭터 \n",
    "    - 동서남북 중 한 곳을 바라본다.\n",
    "    - 상하좌우로 움직일 수 있다.\n",
    "    - 바다로 되어있는 공간은 갈 수 없다.\n",
    "- 이동\n",
    "    - 1. 왼쪽방향 체크\n",
    "        - 가보지 않은 칸 존재 O\n",
    "            - 한칸 전진\n",
    "        - 가보지 않은 칸 존재 X\n",
    "            - 1번 처음으로 돌아감\n",
    "        - 모두 가본 칸\n",
    "            - 뒤에 바다가 없으면\n",
    "                - 뒤로 한칸 이동\n",
    "            - 뒤에 바다\n",
    "                - 움직임을 멈춤\n",
    "- 출력\n",
    "    - 캐릭터가 방문한 칸의 수 출력\n",
    "    \n",
    "## 입력\n",
    "- 첫째줄에 맵의 크기 N X M (3<= N,M <=50, N-세로, M-가로)\n",
    "- 둘째줄에 캐릭터의 현재 위치, 바라보는 방향이 주어짐\n",
    "    - 방향 0:북, 1:동, 2:남, 3:서\n",
    "- 셋째줄부터 맵이 육지인지 바다인지에 대한 정보\n",
    "    - 0: 육지\n",
    "    - 1: 바다\n",
    "    - 맵의 외곽은 항상 바다로 되어있다.\n",
    "- 처음에 캐릭터가 항상 위치한 곳은 육지\n",
    "\n",
    "## 출력\n",
    "- 캐릭터가 이동을 마친후 방문한 칸의 수를 출력"
   ]
  },
  {
   "cell_type": "markdown",
   "metadata": {},
   "source": [
    "**아이디어**\n",
    "- 방향을 설정해서 이동하는 문제 유형\n",
    "    - dx, dy라는 별도의 리스트를 만들어 방향을 정하는 것이 효과적"
   ]
  },
  {
   "cell_type": "code",
   "execution_count": 9,
   "metadata": {},
   "outputs": [
    {
     "name": "stdout",
     "output_type": "stream",
     "text": [
      "4 4\n",
      "1 1 0\n",
      "1 1 1 1\n",
      "1 0 0 1\n",
      "1 1 0 1\n",
      "1 1 1 1\n",
      "3\n"
     ]
    }
   ],
   "source": [
    "n, m = map(int,input().split())\n",
    "\n",
    "x, y, d = map(int,input().split())\n",
    "\n",
    "map_list =[]\n",
    "for _ in range(n):\n",
    "    map_list.append(list(map(int,input().split())))\n",
    "    \n",
    "# 현재 있는 위치 방문으로 지정\n",
    "map_list[x][y] = 1\n",
    "    \n",
    "# 북, 동, 남, 서 이동 방향 지정 - 0,1,2,3\n",
    "dx = [0,1,0,-1]\n",
    "dy = [1,0,-1,0]\n",
    "\n",
    "# 왼쪽 돌기\n",
    "def turn_left():\n",
    "    global d\n",
    "    d = d-1\n",
    "    if d == -1:\n",
    "        d = 3\n",
    "\n",
    "result = 1\n",
    "turn_count = 0\n",
    "while True:\n",
    "    # 왼쪽으로 회전\n",
    "    turn_left()\n",
    "    # 바라보는 방\n",
    "    lx = x + dx[d]\n",
    "    ly = y + dy[d]\n",
    "# 방문했는지 확인\n",
    "    # 방문 안했으면\n",
    "    if map_list[lx][ly] == 0:\n",
    "        map_list[lx][ly] = 1\n",
    "        x = lx\n",
    "        y = ly\n",
    "        turn_count = 0\n",
    "        result += 1\n",
    "        continue\n",
    "    # 이미 방문 했으면\n",
    "    else:\n",
    "        turn_count += 1\n",
    "        \n",
    "# 4번 돌았을때\n",
    "    if turn_count == 4:\n",
    "        nx = x - dx[d]\n",
    "        ny = y - dy[d]\n",
    "# 뒤의 방 방문했는지 확인\n",
    "    # 방문 안했으면\n",
    "        if map_list[nx][ny] == 0:\n",
    "            map_list[nx][ny] = 1\n",
    "            x = nx\n",
    "            y = ny\n",
    "            turn_count = 0\n",
    "            result += 1\n",
    "    # 이미 방문 했으면\n",
    "        else:\n",
    "            break\n",
    "        \n",
    "print(result)"
   ]
  }
 ],
 "metadata": {
  "kernelspec": {
   "display_name": "Python 3",
   "language": "python",
   "name": "python3"
  },
  "language_info": {
   "codemirror_mode": {
    "name": "ipython",
    "version": 3
   },
   "file_extension": ".py",
   "mimetype": "text/x-python",
   "name": "python",
   "nbconvert_exporter": "python",
   "pygments_lexer": "ipython3",
   "version": "3.7.9"
  }
 },
 "nbformat": 4,
 "nbformat_minor": 4
}
