{
 "cells": [
  {
   "cell_type": "markdown",
   "metadata": {},
   "source": [
    "## 문제\n",
    "- 8 X 8 의 체스판\n",
    "- 나이트\n",
    "    - 수평으로 두칸 이동 후 수직으로 한칸\n",
    "    - 수직으로 두칸 이동 후 수평으로 한칸\n",
    "- 좌표 \n",
    "    - 행 \n",
    "        - 1 ~ 8\n",
    "    - 열\n",
    "        - a ~ h\n",
    "- 나이트의 위치가 주어졌을때\n",
    "    - 이동할 수 있는 경우의 수 출력\n",
    "    \n",
    "# 입력\n",
    "- 첫째줄에 나이트의 위치가 주어진다.\n",
    "\n",
    "# 출력\n",
    "- 경우의 수 출력"
   ]
  },
  {
   "cell_type": "markdown",
   "metadata": {},
   "source": [
    "**아이디어**\n",
    "- 이동 경우의 수 \n",
    "    - 8개\n",
    "    - 좌표로 표시\n",
    "- 체스판 벗어나는지 확인\n",
    "    - if문"
   ]
  },
  {
   "cell_type": "code",
   "execution_count": 8,
   "metadata": {},
   "outputs": [
    {
     "name": "stdout",
     "output_type": "stream",
     "text": [
      "a1\n",
      "2\n"
     ]
    }
   ],
   "source": [
    "xy = input()\n",
    "x = ord(xy[0]) - ord(\"a\") + 1\n",
    "y = int(xy[1])\n",
    "\n",
    "steps = [(2,1),(2,-1),(-2,1),(-2,-1),(1,2),(1,-2),(-1,2),(-1,-2)]\n",
    "\n",
    "result = 0\n",
    "\n",
    "for step in steps:\n",
    "    dx = x + step[0]\n",
    "    dy = y + step[1]\n",
    "    if dx >= 1 and dx <= 8 and dy >=1 and dy <= 8:\n",
    "        result += 1\n",
    "        \n",
    "print(result)"
   ]
  }
 ],
 "metadata": {
  "kernelspec": {
   "display_name": "Python 3",
   "language": "python",
   "name": "python3"
  },
  "language_info": {
   "codemirror_mode": {
    "name": "ipython",
    "version": 3
   },
   "file_extension": ".py",
   "mimetype": "text/x-python",
   "name": "python",
   "nbconvert_exporter": "python",
   "pygments_lexer": "ipython3",
   "version": "3.7.9"
  }
 },
 "nbformat": 4,
 "nbformat_minor": 4
}
