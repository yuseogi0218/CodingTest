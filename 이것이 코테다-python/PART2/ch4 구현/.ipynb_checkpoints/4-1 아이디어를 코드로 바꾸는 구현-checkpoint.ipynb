{
 "cells": [
  {
   "cell_type": "markdown",
   "metadata": {},
   "source": [
    "## 구현\n",
    "- 머릿속에 있는 알고리즘을 소스코드로 바꾸는 과정\n",
    "- 필요 요소\n",
    "    - 프로그래밍 언어의 문법을 정확히 알아야 함.\n",
    "    - 문제의 요구사항에 어긋나지 않는 답안 코드 작성\n",
    "- 구현 유형의 문제 특징\n",
    "    - 풀이를 떠올리는 것은 쉽지만\n",
    "    - 소스코드로 옮기는 것이 어려운 문제\n",
    "    - 사소한 조건 설정이 많음"
   ]
  },
  {
   "cell_type": "markdown",
   "metadata": {},
   "source": [
    "- **완전 탐색**\n",
    "    - 모든 경우의 수를 주저 없이 다 계산한느 해결 방법\n",
    "- **시뮬레이션**\n",
    "    - 문제에서 제시한 알고리즘을 한 단계씩 차례대로 직접 수행"
   ]
  },
  {
   "cell_type": "markdown",
   "metadata": {},
   "source": [
    "## 구현 시 고려해야 할 메모리 제약 사항\n",
    "- 변수의 표현 범위\n",
    "    - 파이썬 에서는 직접 자료형을 지정할 필요가 없음\n",
    "    - 매우 큰 수의 연산 또한 기본으로 지원\n",
    "- 리스트 크기\n",
    "    - 리스트의 길이에 따른 메모리 사용량\n",
    "        - 1,000,000 -> 4MB\n",
    "        - 10,000,000 -> 40MB\n",
    "    - 파이썬은 데이터 처리량이 많을 때는 꼭 메모리 제한 고려\n",
    "    "
   ]
  },
  {
   "cell_type": "markdown",
   "metadata": {},
   "source": [
    "## 채점 환경\n",
    "- 보통의 체점 시스템\n",
    "    - 시간 제한 : 1초\n",
    "    - 메모리 제한 : 128MB\n",
    "- 알고리즘 문제를 풀때 고려해야 하는 상황\n",
    "    - 시간제한과 데이터의 개수를 먼저 확인\n",
    "    "
   ]
  },
  {
   "cell_type": "markdown",
   "metadata": {},
   "source": [
    "## 구형 문제에 접근하는 방법\n",
    "- 보통 구현 유형의 문제\n",
    "    - 사소한 입력 조건 등을 문제에 명시\n",
    "    - 문제의 길이가 꽤 긴 편\n",
    "    - 고차원을 고려하지는 않음."
   ]
  }
 ],
 "metadata": {
  "kernelspec": {
   "display_name": "Python 3",
   "language": "python",
   "name": "python3"
  },
  "language_info": {
   "codemirror_mode": {
    "name": "ipython",
    "version": 3
   },
   "file_extension": ".py",
   "mimetype": "text/x-python",
   "name": "python",
   "nbconvert_exporter": "python",
   "pygments_lexer": "ipython3",
   "version": "3.7.9"
  }
 },
 "nbformat": 4,
 "nbformat_minor": 4
}
