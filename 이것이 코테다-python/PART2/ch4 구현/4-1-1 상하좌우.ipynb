{
 "cells": [
  {
   "cell_type": "markdown",
   "metadata": {},
   "source": [
    "## 문제\n",
    "- N X N 크기의 정사각형 공간\n",
    "    - 가장 왼쪽 위 - (1,1)\n",
    "    - 가장 오른쪽 아래 - (N,N)\n",
    "- 여행자는 상, 하, 좌, 우 방향으로 이동할 수 있음\n",
    "    - 시작 좌표 - (1,1)\n",
    "- 계획서\n",
    "    - L,R,U,D\n",
    "    - 여행자가 지도를 벗어나는 행위는 무시된다.\n",
    "    \n",
    "## 입력\n",
    "- 첫째줄에 공간의 크기인 N\n",
    "- 둘째줄에 여행가 A가 이동할 계획서\n",
    "\n",
    "## 출력\n",
    "- 첫째줄에 여행가 A가 도착할 지점의 좌표(X,Y)"
   ]
  },
  {
   "cell_type": "markdown",
   "metadata": {},
   "source": [
    "**아이디어**\n",
    "- 지도를 벗어나는거 if문으로 체크\n",
    "    - 1보다 작거나 N보다 큰경우\n",
    "        - True일때 반복 넘김\n",
    "        - False 일때 값 변경\n",
    "- 반복문으로 계획서 대로 이동"
   ]
  },
  {
   "cell_type": "code",
   "execution_count": 6,
   "metadata": {},
   "outputs": [
    {
     "name": "stdout",
     "output_type": "stream",
     "text": [
      "5\n",
      "R R R U D D\n",
      "3 4\n"
     ]
    }
   ],
   "source": [
    "# 책\n",
    "n = int(input())\n",
    "x, y = 1, 1\n",
    "plans = input().split()\n",
    "\n",
    "dx = [0,0,-1,1]\n",
    "dy = [-1,1,0,0]\n",
    "move_types = [\"L\",\"R\",\"U\",\"D\"]\n",
    "\n",
    "for i in plans:\n",
    "    for m in range(len(move_types)):\n",
    "        if i == move_types[m]:\n",
    "            nx = x + dx[m]\n",
    "            ny = y + dy[m]\n",
    "    if nx<1 or ny < 1 or nx > n or ny > n:\n",
    "        continue\n",
    "    x, y = nx, ny\n",
    "    \n",
    "print(x, y)"
   ]
  }
 ],
 "metadata": {
  "kernelspec": {
   "display_name": "Python 3",
   "language": "python",
   "name": "python3"
  },
  "language_info": {
   "codemirror_mode": {
    "name": "ipython",
    "version": 3
   },
   "file_extension": ".py",
   "mimetype": "text/x-python",
   "name": "python",
   "nbconvert_exporter": "python",
   "pygments_lexer": "ipython3",
   "version": "3.7.9"
  }
 },
 "nbformat": 4,
 "nbformat_minor": 4
}
