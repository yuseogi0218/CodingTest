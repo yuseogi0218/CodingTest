{
 "cells": [
  {
   "cell_type": "markdown",
   "metadata": {},
   "source": [
    "## 문제\n",
    "- 다양한 수로 이루어진 배열이 있을때 주어진 수들을 M번 더하여 가장 큰 수를 만드는 법칙\n",
    "- 배열의 특정한 인덱스에 해당하는 수가 연속해서 K번을 초과하여 더해질 수 없음.\n",
    "\n",
    "## 입력\n",
    "- 첫째줄에 N(2<= N <=1,000), M(1<= M <=10,000), K(1<= K <= 10,000)의 자연수\n",
    "    - K <= M\n",
    "- 둘째줄에 N개의 자연수 (1<= N <=10,000)\n",
    "\n",
    "## 출력\n",
    "- 큰 수의 법칙에 따라 더해진 답 "
   ]
  },
  {
   "cell_type": "markdown",
   "metadata": {},
   "source": [
    "**아이디어**\n",
    "- 1st = 가장 큰수\n",
    "- 2nd = 두번째로 큰수\n",
    "- 결과 = 1st X K + 2nd + 1st X K + 2nd + ..."
   ]
  },
  {
   "cell_type": "code",
   "execution_count": 6,
   "metadata": {},
   "outputs": [
    {
     "name": "stdout",
     "output_type": "stream",
     "text": [
      "5 8 3\n",
      "2 4 5 4 6\n",
      "46\n",
      "-4.138280391693115\n"
     ]
    }
   ],
   "source": [
    "import time\n",
    "start_time = time.time()\n",
    "# 직접\n",
    "N, M, K = map(int,input().split())\n",
    "num_list = list(map(int,input().split()))\n",
    "result = 0\n",
    "\n",
    "num_list.sort() # 입력받은 수 정렬\n",
    "num_1 = num_list[N-1]\n",
    "num_2 = num_list[N-2]\n",
    "\n",
    "div_ = M // (K+1)\n",
    "if M % (K+1) == 0:\n",
    "    result = (num_1 * K + num_2) * div_\n",
    "else:\n",
    "    result = (num_1 * K + num_2) * div_ + num_1 * (M % (k+1))\n",
    "    \n",
    "print(result)\n",
    "\n",
    "end_time = time.time()\n",
    "print(start_time - end_time)"
   ]
  },
  {
   "cell_type": "markdown",
   "metadata": {},
   "source": [
    "- 반복되는 수열에 대해서 파악\n",
    "    - (가장 큰 수 * 최대 연속 수 + 두번째로 큰 수) - 반복"
   ]
  },
  {
   "cell_type": "code",
   "execution_count": 7,
   "metadata": {},
   "outputs": [
    {
     "name": "stdout",
     "output_type": "stream",
     "text": [
      "5 8 3\n",
      "2 4 5 4 6\n",
      "46\n",
      "-4.12505841255188\n"
     ]
    }
   ],
   "source": [
    "#책\n",
    "import time\n",
    "start_time = time.time()\n",
    "# 직접\n",
    "N, M, K = map(int,input().split())\n",
    "num_list = list(map(int,input().split()))\n",
    "\n",
    "num_list.sort() # 입력받은 수 정렬\n",
    "num_1 = num_list[N-1]\n",
    "num_2 = num_list[N-2]\n",
    "\n",
    "\n",
    "# 가장 큰 수가 더해지는 횟수 계산\n",
    "count = int(M / (K+1)) * K\n",
    "count += M%(K+1) # 나머지\n",
    "\n",
    "result = 0\n",
    "result += (count) * num_1\n",
    "result += (M-count) * num_2\n",
    "print(result)\n",
    "\n",
    "end_time = time.time()\n",
    "print(start_time - end_time)"
   ]
  }
 ],
 "metadata": {
  "kernelspec": {
   "display_name": "Python 3",
   "language": "python",
   "name": "python3"
  },
  "language_info": {
   "codemirror_mode": {
    "name": "ipython",
    "version": 3
   },
   "file_extension": ".py",
   "mimetype": "text/x-python",
   "name": "python",
   "nbconvert_exporter": "python",
   "pygments_lexer": "ipython3",
   "version": "3.7.9"
  }
 },
 "nbformat": 4,
 "nbformat_minor": 4
}
