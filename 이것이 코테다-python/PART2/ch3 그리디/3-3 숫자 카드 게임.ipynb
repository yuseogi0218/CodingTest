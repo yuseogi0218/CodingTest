{
 "cells": [
  {
   "cell_type": "markdown",
   "metadata": {},
   "source": [
    "## 문제\n",
    "- 여러 개의 숫자 카드 중에서 가장 높은 숫자가 쓰인 카드 한 장을 뽑는 게임\n",
    "- 규칙\n",
    "    - 숫자 카드가 N X M형태로 놓여 있다.\n",
    "    - 먼저 뽑고자 하는 카드가 포함되어 있는 행 선택\n",
    "    - 다음 선택된 행에서 가장 낮은 카드 선택\n",
    "        - 모든 행에 대하여 가장 높은 카드 선택하여야 함\n",
    "\n",
    "## 입력\n",
    "- 첫째줄에 N-행의 개수 와 M-열의 개수\n",
    "- 둘째줄부터 N개의 줄에 걸쳐 각 카드에 적힌 숫자\n",
    "\n",
    "## 출력\n",
    "- 게임의 룰에 맞게 선탯한 카드의 수 출력"
   ]
  },
  {
   "cell_type": "markdown",
   "metadata": {},
   "source": [
    "**아이디어**\n",
    "- 모든 행의 최소값중 최댓값 선택\n",
    "    - = 각 행마다 가장 작은 수를 찾은 뒤에 그 수 중에서 가장 큰수"
   ]
  },
  {
   "cell_type": "code",
   "execution_count": 4,
   "metadata": {},
   "outputs": [
    {
     "name": "stdout",
     "output_type": "stream",
     "text": [
      "3 3\n",
      "3 1 2\n",
      "4 1 4\n",
      "2 2 2\n",
      "2\n"
     ]
    }
   ],
   "source": [
    "# 직접\n",
    "N, M = map(int, input().split())\n",
    "num_list = []\n",
    "\n",
    "for n in range(N):\n",
    "    input_list = list(map(int,input().split()))\n",
    "    num = min(input_list)\n",
    "    num_list.append(num)\n",
    "    \n",
    "result = max(num_list)\n",
    "print(result)"
   ]
  },
  {
   "cell_type": "markdown",
   "metadata": {},
   "source": [
    "- 그리디 알고리즘 유형\n",
    "    - 문제 해경을 위한 아이디어를 떠올렸다면 정답 도출"
   ]
  },
  {
   "cell_type": "code",
   "execution_count": 5,
   "metadata": {},
   "outputs": [
    {
     "name": "stdout",
     "output_type": "stream",
     "text": [
      "3 3\n",
      "3 1 2\n",
      "4 1 4\n",
      "2 2 2\n",
      "2\n"
     ]
    }
   ],
   "source": [
    "# 책\n",
    "N, M = map(int,input().split())\n",
    "\n",
    "result = 0\n",
    "\n",
    "for n in range(N):\n",
    "    input_list = list(map(int,input().split()))\n",
    "    min_num = min(input_list)\n",
    "    result = max(result, min_num)\n",
    "    \n",
    "print(result)"
   ]
  }
 ],
 "metadata": {
  "kernelspec": {
   "display_name": "Python 3",
   "language": "python",
   "name": "python3"
  },
  "language_info": {
   "codemirror_mode": {
    "name": "ipython",
    "version": 3
   },
   "file_extension": ".py",
   "mimetype": "text/x-python",
   "name": "python",
   "nbconvert_exporter": "python",
   "pygments_lexer": "ipython3",
   "version": "3.7.9"
  }
 },
 "nbformat": 4,
 "nbformat_minor": 4
}
