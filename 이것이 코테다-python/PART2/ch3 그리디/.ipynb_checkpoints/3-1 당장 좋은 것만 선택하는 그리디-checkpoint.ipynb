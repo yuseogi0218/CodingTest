{
 "cells": [
  {
   "cell_type": "markdown",
   "metadata": {},
   "source": [
    "## 그리디 - 탐욕법\n",
    "- 현재 상황에서 지금 당장 좋은 것만 고르는 방법\n",
    "- 현재의 선택이 나중에 미칠 영향에 대해서는 고려하지 않는다.\n",
    "- 창의력 요구\n",
    "    - 문제를 풀기 위한 최소한의 아이디어를 떠올릴 수 있는 능력을 요구\n",
    "- 기준에 따라 선택하는 알고리즘\n",
    "    - 문제에서 기준 제시\n",
    "    - 정렬 알고리즘과 짝을 이뤄 출제"
   ]
  },
  {
   "cell_type": "markdown",
   "metadata": {},
   "source": [
    "**예제 3-1 거스름돈**\n",
    "- 카운터에 거스름돈으로 사용할 500원, 100원, 50원, 10원짜리 동전리 무한히 존재\n",
    "- 손님에게 거슬러 줘야 할 돈이 N원일 때\n",
    "    - 단, 거슬러 줘야 할 돈 N은 항상 10의 배수\n",
    "- 거슬러 줘야할 동전의 최소 개수 "
   ]
  },
  {
   "cell_type": "code",
   "execution_count": 5,
   "metadata": {},
   "outputs": [
    {
     "name": "stdout",
     "output_type": "stream",
     "text": [
      "1800\n",
      "6\n"
     ]
    }
   ],
   "source": [
    "N = int(input())\n",
    "\n",
    "result = 0\n",
    "\n",
    "coin_list = [500,100,50,10]\n",
    "\n",
    "for i in coin_list:\n",
    "    result += N//i\n",
    "    N = N%i\n",
    "        \n",
    "print(result)"
   ]
  },
  {
   "cell_type": "markdown",
   "metadata": {},
   "source": [
    "- 아이디어\n",
    "    - \"가장 큰 화폐 단위부터\" 돈을 거슬러 주는 것\n",
    "- 시간 복잡도\n",
    "    - O(K)\n",
    "        - K = 화폐의 종류"
   ]
  },
  {
   "cell_type": "markdown",
   "metadata": {},
   "source": [
    "- 거스름돈 문제\n",
    "    - 화폐 단위가 서로 배수 형태\n",
    "        - 그리디 알고리즘\n",
    "    - 화폐의 단위가 무작위\n",
    "        - 다이나믹 프로그래민"
   ]
  },
  {
   "cell_type": "markdown",
   "metadata": {},
   "source": [
    "**그리드 알고리즘의 정당성**\n",
    "- 문제 풀이를 위한 최소한의 아이디어를 떠올리고 \n",
    "    - 이것이 정당한지 검토 하여야 답을 도출 할 수 있다.\n",
    "    \n",
    "    \n",
    "- 탐욕적으로 문제에 접근했을 때 정확한 답을 찾을 수 있다는 보장\n",
    "    - 매우 효과적이고, 직관적인 알고리즘"
   ]
  }
 ],
 "metadata": {
  "kernelspec": {
   "display_name": "Python 3",
   "language": "python",
   "name": "python3"
  },
  "language_info": {
   "codemirror_mode": {
    "name": "ipython",
    "version": 3
   },
   "file_extension": ".py",
   "mimetype": "text/x-python",
   "name": "python",
   "nbconvert_exporter": "python",
   "pygments_lexer": "ipython3",
   "version": "3.7.9"
  }
 },
 "nbformat": 4,
 "nbformat_minor": 4
}
