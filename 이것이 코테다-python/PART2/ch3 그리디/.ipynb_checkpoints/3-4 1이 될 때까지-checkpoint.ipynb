{
 "cells": [
  {
   "cell_type": "markdown",
   "metadata": {},
   "source": [
    "## 문제\n",
    "- 어떠한 수 N이 1이 될 때까지 두 과정 중 하나를 반복적으로 선택하여 수행\n",
    "    - N에서 1을 뺀다.\n",
    "    - N을 K로 나눈다.\n",
    "        - 단, N 이 K 로 나누어 떨어질 때만 가능\n",
    "- 어떠한 수 N이 1이 될 때까지 최소 연산 횟수\n",
    "\n",
    "## 입력\n",
    "- 첫째줄에 N(2<= N <=100,000)과 K(2<= K <=100,000)\n",
    "    - K <= N\n",
    "    \n",
    "## 출력\n",
    "- 어떠한 수 N,K에 대하여 위 문제의 해답. "
   ]
  },
  {
   "cell_type": "markdown",
   "metadata": {},
   "source": [
    "**아이디어**\n",
    "- K로 최대한 많이 나눈다."
   ]
  },
  {
   "cell_type": "code",
   "execution_count": 5,
   "metadata": {},
   "outputs": [
    {
     "name": "stdout",
     "output_type": "stream",
     "text": [
      "25 3\n",
      "6\n"
     ]
    }
   ],
   "source": [
    "# 직접\n",
    "N, K = map(int,input().split())\n",
    "result = 0\n",
    "\n",
    "while(N != 1):\n",
    "    if N%K == 0:\n",
    "        N = N//K\n",
    "        result += 1\n",
    "    else:\n",
    "        N -= 1\n",
    "        result += 1\n",
    "        \n",
    "print(result)"
   ]
  },
  {
   "cell_type": "markdown",
   "metadata": {},
   "source": [
    "**책**\n",
    "- N이 K의 배수가 될 때까지 1씩 빼기\n",
    "- N을 K로 나누기\n",
    "- 몫을 1로 만들어야하기 때문에 1씩 빼기"
   ]
  },
  {
   "cell_type": "code",
   "execution_count": 8,
   "metadata": {},
   "outputs": [
    {
     "name": "stdout",
     "output_type": "stream",
     "text": [
      "25 3\n",
      "6\n"
     ]
    }
   ],
   "source": [
    "# 책\n",
    "N, K = map(int,input().split())\n",
    "result = 0\n",
    "\n",
    "while N >= K:\n",
    "    while N % K != 0:\n",
    "        N -= 1\n",
    "        result += 1\n",
    "    N //= K \n",
    "    result += 1\n",
    "    \n",
    "while N > 1:\n",
    "    result += 1\n",
    "    N -= 1\n",
    "    \n",
    "print(result)"
   ]
  },
  {
   "cell_type": "markdown",
   "metadata": {},
   "source": [
    "- N이 K의 배수가 되도록 한번에 빼는 방법\n",
    "    - 1씩 빼면 시간이 늘어나므로"
   ]
  },
  {
   "cell_type": "code",
   "execution_count": 11,
   "metadata": {
    "scrolled": true
   },
   "outputs": [
    {
     "name": "stdout",
     "output_type": "stream",
     "text": [
      "25 3\n",
      "6\n"
     ]
    }
   ],
   "source": [
    "# 직접\n",
    "\n",
    "N,K = map(int,input().split())\n",
    "result = 0\n",
    "\n",
    "while (N != 1):\n",
    "    if N%K == 0:\n",
    "        N //= K \n",
    "        result += 1\n",
    "    else:\n",
    "        div = N%K\n",
    "        N -= div\n",
    "        result += div\n",
    "    if N < K:\n",
    "        result += (N-1)\n",
    "        break\n",
    "        \n",
    "        \n",
    "print(result)"
   ]
  },
  {
   "cell_type": "code",
   "execution_count": 19,
   "metadata": {},
   "outputs": [
    {
     "name": "stdout",
     "output_type": "stream",
     "text": [
      "25 3\n",
      "6\n"
     ]
    }
   ],
   "source": [
    "# 책\n",
    "\n",
    "n,k = map(int,input().split())\n",
    "result = 0\n",
    "\n",
    "while True:\n",
    "    target = (n//k)*k\n",
    "    result += (n-target)\n",
    "    n = target\n",
    "    if n<k:\n",
    "        break\n",
    "    result += 1\n",
    "    n //=k\n",
    "    \n",
    "result += (n-1)\n",
    "print(result)"
   ]
  }
 ],
 "metadata": {
  "kernelspec": {
   "display_name": "Python 3",
   "language": "python",
   "name": "python3"
  },
  "language_info": {
   "codemirror_mode": {
    "name": "ipython",
    "version": 3
   },
   "file_extension": ".py",
   "mimetype": "text/x-python",
   "name": "python",
   "nbconvert_exporter": "python",
   "pygments_lexer": "ipython3",
   "version": "3.7.9"
  }
 },
 "nbformat": 4,
 "nbformat_minor": 4
}
