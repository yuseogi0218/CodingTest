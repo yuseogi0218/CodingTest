{
 "cells": [
  {
   "cell_type": "markdown",
   "metadata": {},
   "source": [
    "## 문제\n",
    "- 도시 C 에서 다른 도시까지 메시지를 보냄\n",
    "- 도시 C에서 보낸 메시지를 받는 도시의 총 개수와 총 걸리는 시간을 구해라\n",
    "\n",
    "## 입력\n",
    "- 첫째줄에 도시의 개수 N, 통로의 개수 M, 메시지를 보내고자 하는 도시 C\n",
    "    - 1<= N <=30,000 , 1<= M <=200,000 , 1<= C <=N\n",
    "- 둘째줄부터 M+1 번째 줄까지 통로에 대한 정보 X,Y,Z\n",
    "    - X -> Y 까지 가는데 걸리는 시간 Z\n",
    "    \n",
    "## 출력\n",
    "- 도시 C에서 보낸 메시지를 받는 도시의 총 개수와 총 걸리는 시간을 공백으로 구분하여 출력"
   ]
  },
  {
   "cell_type": "markdown",
   "metadata": {},
   "source": [
    "**아이디어**\n",
    "- 한 도시에서 다른 도시까지의 최단 거리 문제\n",
    "    - 우선순위 큐 를 이용한 다익스트라 알고리즘"
   ]
  },
  {
   "cell_type": "code",
   "execution_count": 2,
   "metadata": {},
   "outputs": [
    {
     "name": "stdout",
     "output_type": "stream",
     "text": [
      "3 2 1\n",
      "1 2 4\n",
      "1 3 2\n",
      "2 4\n"
     ]
    }
   ],
   "source": [
    "import heapq\n",
    "\n",
    "INF = int(1e9)\n",
    "\n",
    "# 노드의 개수, 간선의 개수, 시작 노드를 입력받기\n",
    "n, m, start = map(int,input().split())\n",
    "# 각 노드에 연결되어 있는 노드에 대한 정보를 담는 리스트를 만들기\n",
    "graph = [[] for i in range(n+1)]\n",
    "# 최단 거리 테이블을 모두 무한으로 초기화\n",
    "distance = [INF] * (n+1)\n",
    "\n",
    "# 모든 간선 정보를 입력받기\n",
    "for _ in range(m):\n",
    "    x, y, z = map(int,input().split())\n",
    "    graph[x].append((y,z))\n",
    "    \n",
    "#다익스트라 알고리즘 구현\n",
    "def dijkstra(start):\n",
    "    q = []\n",
    "    # 시작 노드로 가기위한 최단 경로는 0으로 설정하여, 큐에 삽입\n",
    "    heapq.heappush(q,(0,start))\n",
    "    distance[0] = 0\n",
    "    \n",
    "    while q:\n",
    "        dist, now = heapq.heappop(q)\n",
    "        if distance[now] < dist:\n",
    "            continue\n",
    "        for i in graph[now]:\n",
    "            cost = dist + i[1]\n",
    "            if cost < distance[i[0]]:\n",
    "                distance[i[0]] = cost\n",
    "                heapq.heappush(q,(cost,i[0]))\n",
    "                \n",
    "# 수행\n",
    "dijkstra(start)\n",
    "\n",
    "# 도달할 수 있는 노드의 개수\n",
    "count = 0\n",
    "# 도달할 수 잇는 노드 중에서, 가장 멀리 있는 노드와의 최단 거리\n",
    "max_distance = 0\n",
    "for d in distance:\n",
    "    if d != INF:\n",
    "        count += 1\n",
    "        max_distance = max(max_distance, d)\n",
    "        \n",
    "#시작 노드는 제외해야 하므로 count-1을 출력\n",
    "print(count-1, max_distance)"
   ]
  }
 ],
 "metadata": {
  "kernelspec": {
   "display_name": "Python 3",
   "language": "python",
   "name": "python3"
  },
  "language_info": {
   "codemirror_mode": {
    "name": "ipython",
    "version": 3
   },
   "file_extension": ".py",
   "mimetype": "text/x-python",
   "name": "python",
   "nbconvert_exporter": "python",
   "pygments_lexer": "ipython3",
   "version": "3.7.9"
  }
 },
 "nbformat": 4,
 "nbformat_minor": 4
}
