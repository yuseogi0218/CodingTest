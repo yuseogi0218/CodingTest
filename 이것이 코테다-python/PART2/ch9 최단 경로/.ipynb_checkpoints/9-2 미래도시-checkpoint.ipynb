{
 "cells": [
  {
   "cell_type": "markdown",
   "metadata": {},
   "source": [
    "## 문제\n",
    "- 경로\n",
    "    - 1번 -> K (현재위치 -> 소개팅)\n",
    "    - K -> X (소개팅 -> 물건을 팔고자 하는 회사)\n",
    "- 두 회사 끼리 연결되어 있다면 이동 시간은 1 이다.\n",
    "    \n",
    "## 입력\n",
    "- 첫째줄에 전체 회사의 개수 N과, 경로의 개수 M이 공백으로 구분되어 주어진다.\n",
    "- 둘째줄부터 M + 1번째 줄에는 연결된 두 회사의 번호가 공백으로 주어진다.\n",
    "- M + 1번째 줄에는 X 와 K 가 공백으로 구분되어 차례대로 주어진다.\n",
    "\n",
    "## 출력\n",
    "- 첫째줄에 1번노드 -> K -> X 의 최소 이동 시간을 출력\n",
    "- 만약 X번 회사에 도달할 수 없다면 -1을 출력하라"
   ]
  },
  {
   "cell_type": "markdown",
   "metadata": {},
   "source": [
    "**아이디어**\n",
    "- 구현이 간단한 플로이드 워셜 알고리즘을 이용\n",
    "- 1번노드 -> K -> X 의 최소 이동 시간\n",
    "    - = min(1번노드 -> K) + min(K -> X)"
   ]
  },
  {
   "cell_type": "code",
   "execution_count": 6,
   "metadata": {},
   "outputs": [
    {
     "name": "stdout",
     "output_type": "stream",
     "text": [
      "5 7\n",
      "1 2\n",
      "1 3\n",
      "1 4\n",
      "2 4\n",
      "3 4\n",
      "3 5\n",
      "4 5\n",
      "4 5\n",
      "3\n"
     ]
    }
   ],
   "source": [
    "INF = int(1e9)\n",
    "\n",
    "#노드의 개수 및 간선의 개수를 입력받기\n",
    "n, m = map(int,input().split())\n",
    "#2차원 리스트를 만들고 모든 값을 INF로 초기화\n",
    "graph = [[INF]*(n+1) for _ in range(n+1)]\n",
    "\n",
    "#자기 자신에서 자기 자신으로 가는 비용 0 으로 초기화\n",
    "for a in range(1,n+1):\n",
    "    for b in range(1,n+1):\n",
    "        if a == b :\n",
    "            graph[a][b] = 0\n",
    "            \n",
    "# 각 간선에 대한 정보를 입력받아 ,graph값 초기화\n",
    "for _ in range(m):\n",
    "    a,b = map(int,input().split())\n",
    "    graph[a][b] = 1\n",
    "    graph[b][a] = 1\n",
    "    \n",
    "# 거쳐 갈 노드X와 최족 목정지 노드 K입력받기\n",
    "x, k = map(int,input().split())\n",
    "\n",
    "# 점화식에 따라 플로이드 워셔 알고리즘 구현\n",
    "for k in range(1,n+1):\n",
    "    for a in range(1,n+1):\n",
    "        for b in range(1,n+1):\n",
    "            graph[a][b] = min(graph[a][b],graph[a][k] + graph[k][b])\n",
    "            \n",
    "# 수행된 결과 출력\n",
    "distance = graph[1][k] + graph[k][x]\n",
    "\n",
    "if distance >= INF:\n",
    "    print(\"-1\")\n",
    "else:\n",
    "    print(distance)"
   ]
  }
 ],
 "metadata": {
  "kernelspec": {
   "display_name": "Python 3",
   "language": "python",
   "name": "python3"
  },
  "language_info": {
   "codemirror_mode": {
    "name": "ipython",
    "version": 3
   },
   "file_extension": ".py",
   "mimetype": "text/x-python",
   "name": "python",
   "nbconvert_exporter": "python",
   "pygments_lexer": "ipython3",
   "version": "3.7.9"
  }
 },
 "nbformat": 4,
 "nbformat_minor": 4
}
