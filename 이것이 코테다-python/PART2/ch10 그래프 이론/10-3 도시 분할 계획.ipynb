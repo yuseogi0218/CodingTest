{
 "cells": [
  {
   "cell_type": "markdown",
   "metadata": {},
   "source": [
    "## 문제\n",
    "- 마을은 N개의 집과, M개의 길로 이루어짐.\n",
    "    - 길은 어느 방형으로 다닐 수 있다.\n",
    "    - 길을 유지하는데 드는 유지비가 있다.\n",
    "- 마을을 2개로 분할할 계획\n",
    "    - 각 분이된 마을 안에 집들이 서로 연결\n",
    "    - 마을에 집이 하나 이상\n",
    "- 길을 없앰\n",
    "    - 분리된 두 마을 사이에 있는 길들을 없앰\n",
    "    - 각 분리된 마을안에서 임의의 두 집 사이에 경로가 항상 존재하게 하면서 길을 더 없앨 수 있음\n",
    "\n",
    "## 입력\n",
    "- 첫째줄에 집의 개수 N, 길의 개수 M이 주어진다.\n",
    "    - (2<= N <=100,000 , 1<= M <=1,000,000)\n",
    "- 그 다음 줄부터 M줄에 걸쳐 길의 정보가 A, B, C 공백으로 구분되어 주어짐\n",
    "    - C : A 와 B 집을 연결하는데 드는 비용  \n",
    "\n",
    "## 출력\n",
    "- 길을 없애고 남은 유지비용 합의 최솟값"
   ]
  },
  {
   "cell_type": "markdown",
   "metadata": {},
   "source": [
    "**아이디어**\n",
    "- 전체그래프에서 2개의 최소 신장 트리를 만들기\n",
    "- 1) 크루스칼 알고리즘으로 최소신장 트리를 찾은 \n",
    "- 2) 가장 높은 비용의 간선을 제거"
   ]
  },
  {
   "cell_type": "code",
   "execution_count": 2,
   "metadata": {},
   "outputs": [
    {
     "name": "stdout",
     "output_type": "stream",
     "text": [
      "7 12\n",
      "1 2 3\n",
      "1 3 2\n",
      "3 2 1\n",
      "2 5 2\n",
      "3 4 4\n",
      "7 3 6\n",
      "5 1 5\n",
      "1 6 2\n",
      "6 4 1\n",
      "6 5 3\n",
      "4 5 3\n",
      "6 7 4\n",
      "8\n"
     ]
    }
   ],
   "source": [
    "# 크루스칼 알고리즘 구현\n",
    "def find_parent(parent, x):\n",
    "    if parent[x] != x:\n",
    "        parent[x] = find_parent(parent,parent[x])\n",
    "    return parent[x]\n",
    "\n",
    "def union_parent(parent, a, b):\n",
    "    a = find_parent(parent, a)\n",
    "    b = find_parent(parent, b)\n",
    "    if a < b:\n",
    "        parent[b] = a\n",
    "    else:\n",
    "        parent[a] = b\n",
    "\n",
    "# 노드의 개수와 간선의 개수 입력받기\n",
    "v, e = map(int,input().split())\n",
    "\n",
    "# 부모 테이블\n",
    "parent = [0] * (v+1)\n",
    "for i in range(1,v+1):\n",
    "    parent[i] = i\n",
    "    \n",
    "# 모든 간선을 담을 리스트와 최종 비용을 담을 변수\n",
    "edges = []\n",
    "result = 0\n",
    "\n",
    "# 모든 간선에 대한 정보 입력받기\n",
    "for _ in range(e):\n",
    "    a, b, cost = map(int,input().split())\n",
    "    edges.append((cost, a, b))\n",
    "\n",
    "# 간선을 비용순으로 정렬\n",
    "edges.sort()\n",
    "# 최소 신장 트리에 포함되는 간선중에서 가장 비용이 큰 간선\n",
    "last = 0\n",
    "\n",
    "# 간선을 하나씩 확인하면 \n",
    "for edge in edges:\n",
    "    cost, a, b = edge\n",
    "    # 사이클이 발생하지 않는 경우에만 집합에 포함\n",
    "    if find_parent(parent, a) != find_parent(parent, b):\n",
    "        union_parent(parent, a, b)\n",
    "        result += cost\n",
    "        last = cost\n",
    "        \n",
    "print(result - last)"
   ]
  }
 ],
 "metadata": {
  "kernelspec": {
   "display_name": "Python 3",
   "language": "python",
   "name": "python3"
  },
  "language_info": {
   "codemirror_mode": {
    "name": "ipython",
    "version": 3
   },
   "file_extension": ".py",
   "mimetype": "text/x-python",
   "name": "python",
   "nbconvert_exporter": "python",
   "pygments_lexer": "ipython3",
   "version": "3.7.9"
  }
 },
 "nbformat": 4,
 "nbformat_minor": 4
}
