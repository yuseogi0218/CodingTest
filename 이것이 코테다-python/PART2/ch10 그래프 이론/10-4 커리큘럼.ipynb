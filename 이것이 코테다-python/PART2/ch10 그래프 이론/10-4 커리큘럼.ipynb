{
 "cells": [
  {
   "cell_type": "markdown",
   "metadata": {},
   "source": [
    "## 문제\n",
    "- N개의 강의\n",
    "    - 각 강의는 1번부터 N번까지의 번호가 있다.\n",
    "- 동시에 여러개의 강의를 들을 수 있다.\n",
    "- 각 강의는 선수 강의가 있을 수 있다.\n",
    "- N개의 강의에 대하여 수강하기까지 걸리는 최소 시간을 각각 출력하는 프로그램\n",
    "\n",
    "## 입력\n",
    "- 첫째줄에 듣고자 하는 강의의 수 N(1<= N <=500)\n",
    "- 다음 N개의 줄에는 각 강의 시간 , 선수강의 번호\n",
    "    - 각 줄을 -1 로 끝난다.\n",
    "    \n",
    "## 출력\n",
    "- N개의 강의에 대하여 수강하기까지 걸리는 최소 시간을 각각 출력"
   ]
  },
  {
   "cell_type": "markdown",
   "metadata": {},
   "source": [
    "**아이디어**\n",
    "- 위상정렬 알고리즘의 응용\n",
    "- 각 노드에 대하여 인접한 노드를 확인할때,\n",
    "    - 현재보다 강의 시간이 더 긴 경우를 찾는다면 -> 결과 테이블 갱신\n",
    "- time 테이블\n",
    "    - 각 강의 시간\n",
    "- result 테이블\n",
    "    - 각 강의를 수강하기까지의 최소 시간\n",
    "    - 위상정렬 함수의 초기 부분에서 deepcopy()함수를 이용하여 time 값 복제"
   ]
  },
  {
   "cell_type": "code",
   "execution_count": 5,
   "metadata": {},
   "outputs": [
    {
     "name": "stdout",
     "output_type": "stream",
     "text": [
      "5\n",
      "10 -1\n",
      "10 1 -1\n",
      "4 1 -1\n",
      "4 3 1 -1\n",
      "3 3 -1\n",
      "10\n",
      "20\n",
      "14\n",
      "18\n",
      "17\n"
     ]
    }
   ],
   "source": [
    "from collections import deque\n",
    "import copy\n",
    "\n",
    "# 노드의 개수 입력받기\n",
    "v = int(input())\n",
    "# 모든 노드에 대한 진입차수는 0으로 초기화\n",
    "indegree = [0] *(v+1)\n",
    "# 각 노드에 연결된 간선 정보를 담기 위한 연결 리스트 초기화\n",
    "graph = [[] for i in range(v+1)]\n",
    "# 각 강의 시간을 0으로 초기화\n",
    "time = [0] * (v+1)\n",
    "\n",
    "# 방형 그래프의 모든 간선 정보를 입력받기\n",
    "for i in range(1, v+1):\n",
    "    data = list(map(int,input().split()))\n",
    "    time[i] = data[0]\n",
    "    for x in data[1:-1]:\n",
    "        indegree[i] += 1\n",
    "        graph[x].append(i)\n",
    "        \n",
    "\n",
    "# 위상 정렬 함수\n",
    "def topology_sort():\n",
    "    result = copy.deepcopy(time)\n",
    "    q  = deque()\n",
    "    \n",
    "    # 처음 시작할 때는 진입차수가 0인 노드를 큐에 삽입\n",
    "    for i in range(1,v+1):\n",
    "        if indegree[i] ==0 :\n",
    "            q.append(i)\n",
    "            \n",
    "    # 큐가 빌때까지 반복\n",
    "    while q:\n",
    "        now = q.popleft()\n",
    "        # 해당 원소와 연결된 노드들의 진입차수에서 1 빼기\n",
    "        for i in graph[now]:\n",
    "            result[i] = max(result[i], result[now] + time[i])\n",
    "            indegree[i] -= 1\n",
    "            # 새롭게 진입차수가 0이되는 노드를 큐에 삽입\n",
    "            if indegree[i] == 0:\n",
    "                q.append(i)\n",
    "                \n",
    "    # 위상정렬을 수행한 결과 출력\n",
    "    for i in range(1,v+1):\n",
    "        print(result[i])\n",
    "        \n",
    "topology_sort()"
   ]
  }
 ],
 "metadata": {
  "kernelspec": {
   "display_name": "Python 3",
   "language": "python",
   "name": "python3"
  },
  "language_info": {
   "codemirror_mode": {
    "name": "ipython",
    "version": 3
   },
   "file_extension": ".py",
   "mimetype": "text/x-python",
   "name": "python",
   "nbconvert_exporter": "python",
   "pygments_lexer": "ipython3",
   "version": "3.7.9"
  }
 },
 "nbformat": 4,
 "nbformat_minor": 4
}
