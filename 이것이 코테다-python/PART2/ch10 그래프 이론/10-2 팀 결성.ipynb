{
 "cells": [
  {
   "cell_type": "markdown",
   "metadata": {},
   "source": [
    "## 문제\n",
    "- 학생들에게 0번부터 N번까지의 번호 부여\n",
    "- 처음에는 모든 학생이 서로 다른 팀으로 구분\n",
    "    - 총 N+1 개의 팀이 존재\n",
    "- 팀 합치기 연산\n",
    "    - 두 팀을 합치는 연산\n",
    "- 같은 팀 여부 확인\n",
    "    - 특정한 두 학생이 같은 팀에 속하는지를 확인하는 연산\n",
    "- M개의 연산을 수행 했을때 \n",
    "    - '같은 팀 여부 확인 연산'에 대한 연산 결과를 출력\n",
    "    \n",
    "## 입력\n",
    "- 첫째줄에 N, M 이 주어진다. (1<= N,M <=100,000)\n",
    "- 다음 M개의 줄에는 각각의 연산\n",
    "    - 팀 합치기\n",
    "        - 0 a b -> a와 b 학생이 속한 팀을 합친다.\n",
    "    - 같은 팀 여부 확인\n",
    "        - 1 a b -> a와 b 학생이 같은 팀에 속하는지 확인\n",
    "        \n",
    "## 출력\n",
    "- '같은 팀 여부 확인'연산에 대하여 YES 또는 NO 출력"
   ]
  },
  {
   "cell_type": "markdown",
   "metadata": {},
   "source": [
    "**아이디어**\n",
    "- 경로 압축 방식의 서로소 집합 자료구조 이용"
   ]
  },
  {
   "cell_type": "code",
   "execution_count": 4,
   "metadata": {},
   "outputs": [
    {
     "name": "stdout",
     "output_type": "stream",
     "text": [
      "7 8\n",
      "0 1 3\n",
      "1 1 7\n",
      "NO\n",
      "0 7 6\n",
      "1 7 1\n",
      "NO\n",
      "0 3 7\n",
      "0 4 2\n",
      "0 1 1\n",
      "1 1 1\n",
      "YES\n"
     ]
    }
   ],
   "source": [
    "# 특정 원소가 속한 집합을 찾기- 경로 압축 방식\n",
    "def find_parent(parent, x ):\n",
    "    if parent[x] != x:\n",
    "        parent[x] = find_parent(parent, parent[x])\n",
    "    return parent[x]\n",
    "\n",
    "# 두 원소가 속한 집합 합치시\n",
    "def union_parent(parent, a, b):\n",
    "    a = find_parent(parent, a)\n",
    "    b = find_parent(parent, b)\n",
    "    if a < b:\n",
    "        parent[b] = a\n",
    "    else:\n",
    "        parent[a] = b\n",
    "        \n",
    "# 입력\n",
    "n, m = map(int,input().split())\n",
    "# 부모 테이블\n",
    "parent = [0] * (n+1)\n",
    "for i in range(0,n+1):\n",
    "    parent[i] = i\n",
    "    \n",
    "# 각 연산을 하나씩 확인\n",
    "for i in range(m):\n",
    "    oper, a, b= map(int,input().split())\n",
    "    # 합치기 연산\n",
    "    if oper == 0:\n",
    "        union_parent(parent,a, b)\n",
    "    # 같은 팀 확인 연산\n",
    "    elif oper == 1:\n",
    "        if find_parent(parent,a) == find_parent(parent, b):\n",
    "            print(\"YES\")\n",
    "        else:\n",
    "            print(\"NO\")"
   ]
  }
 ],
 "metadata": {
  "kernelspec": {
   "display_name": "Python 3",
   "language": "python",
   "name": "python3"
  },
  "language_info": {
   "codemirror_mode": {
    "name": "ipython",
    "version": 3
   },
   "file_extension": ".py",
   "mimetype": "text/x-python",
   "name": "python",
   "nbconvert_exporter": "python",
   "pygments_lexer": "ipython3",
   "version": "3.7.9"
  }
 },
 "nbformat": 4,
 "nbformat_minor": 4
}
