{
 "cells": [
  {
   "cell_type": "markdown",
   "metadata": {},
   "source": [
    "## 문제\n",
    "- N명의 학생 정보\n",
    "    - 학생 이름, 학생 성적\n",
    "- 성적이 낮은 순서대로 이름을 출력하는 프로그램\n",
    "\n",
    "## 입력\n",
    "- 첫째줄에 학생의 수 N 입력(1<= N <=100,000)\n",
    "- 둘째줄부터 N+1까지 학생의 이름, 학생의 성적이 공백으로 구분되어 입력\n",
    "\n",
    "## 출력\n",
    "- 모든 학생의 이름을 성적이 낮은 순서대로 출력\n",
    "- 성적이 동일한 학생등의 순서는 자유롭게"
   ]
  },
  {
   "cell_type": "markdown",
   "metadata": {},
   "source": [
    "**아이디어**\n",
    "- 파이썬의 정렬 라이브러리 활용"
   ]
  },
  {
   "cell_type": "code",
   "execution_count": 6,
   "metadata": {},
   "outputs": [
    {
     "name": "stdout",
     "output_type": "stream",
     "text": [
      "2\n",
      "홍길동 95\n",
      "이순신 77\n",
      "이순신 홍길동 "
     ]
    }
   ],
   "source": [
    "N = int(input())\n",
    "\n",
    "array = []\n",
    "for _ in range(N):\n",
    "    data = [name, score] = input().split()\n",
    "    array.append([data[0],int(data[1])])\n",
    "    \n",
    "# 점수를 key로 정렬\n",
    "array = sorted(array,key = lambda x: x[1])\n",
    "\n",
    "# 출력\n",
    "for i in array:\n",
    "    print(i[0], end = \" \")"
   ]
  }
 ],
 "metadata": {
  "kernelspec": {
   "display_name": "Python 3",
   "language": "python",
   "name": "python3"
  },
  "language_info": {
   "codemirror_mode": {
    "name": "ipython",
    "version": 3
   },
   "file_extension": ".py",
   "mimetype": "text/x-python",
   "name": "python",
   "nbconvert_exporter": "python",
   "pygments_lexer": "ipython3",
   "version": "3.7.9"
  }
 },
 "nbformat": 4,
 "nbformat_minor": 4
}
