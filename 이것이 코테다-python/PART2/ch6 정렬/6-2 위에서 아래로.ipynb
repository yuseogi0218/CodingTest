{
 "cells": [
  {
   "cell_type": "markdown",
   "metadata": {},
   "source": [
    "## 문제\n",
    "- 수열의  수를 내림차순으로 정렬\n",
    "\n",
    "## 입력\n",
    "- 첫째 줄에 수열에 속해 있는 수의 개수 N(1<= N <= 500)\n",
    "- 둘째 줄부터 N+1 까지 N개의 수 입력 (1<= 수 <=100,000)\n",
    "\n",
    "## 출력\n",
    "- 입력으로 주어진 수 내림차순으로 정렬후 공백으로 구분하여 출력"
   ]
  },
  {
   "cell_type": "markdown",
   "metadata": {},
   "source": [
    "**아이디어**\n",
    "- 파이썬 정렬 라이브러리 활용"
   ]
  },
  {
   "cell_type": "code",
   "execution_count": 1,
   "metadata": {},
   "outputs": [
    {
     "name": "stdout",
     "output_type": "stream",
     "text": [
      "3\n",
      "15\n",
      "27\n",
      "12\n",
      "27 15 12 "
     ]
    }
   ],
   "source": [
    "# 직접\n",
    "N = int(input())\n",
    "num_list = []\n",
    "for _ in range(N):\n",
    "    num = int(input())\n",
    "    num_list.append(num)\n",
    "    \n",
    "# 정렬 \n",
    "num_list.sort(reverse = True)\n",
    "\n",
    "for i in num_list:\n",
    "    print(i,end= \" \")"
   ]
  }
 ],
 "metadata": {
  "kernelspec": {
   "display_name": "Python 3",
   "language": "python",
   "name": "python3"
  },
  "language_info": {
   "codemirror_mode": {
    "name": "ipython",
    "version": 3
   },
   "file_extension": ".py",
   "mimetype": "text/x-python",
   "name": "python",
   "nbconvert_exporter": "python",
   "pygments_lexer": "ipython3",
   "version": "3.7.9"
  }
 },
 "nbformat": 4,
 "nbformat_minor": 4
}
