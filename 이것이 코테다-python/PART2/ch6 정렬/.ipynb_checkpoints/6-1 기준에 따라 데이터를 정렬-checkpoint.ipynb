{
 "cells": [
  {
   "cell_type": "markdown",
   "metadata": {},
   "source": [
    "## 정렬 알고리즘 개요\n",
    "- 정렬\n",
    "    - 데이터를 특정한 기중레 따라서 순서대로 나열하는 것\n",
    "    - 이진 탐생의 전처리 과정\n",
    "    - 종류\n",
    "        - 매우 다양함\n",
    "        - 선택 정렬, 삽입 정렬, 퀵 정렬, 계수 정렬, ...\n",
    "    - 오름차순, 내림차순\n",
    "        - 내림차순\n",
    "            - 오름차순 정렬을 수행하는 알고리즘에서 크기 비교를 반대로 수행\n",
    "            - or 파이썬에서 리스트.reverse() 시 정렬된 원소순서를 뒤집음."
   ]
  },
  {
   "cell_type": "markdown",
   "metadata": {},
   "source": [
    "## 선택 정렬\n",
    "- 가장 작은 원소를 선택하여 맨 앞의 원소와 바꾸는 과정을 반복\n",
    "    - N-1 번 반복하면 정렬 완료\n",
    "- 시간 복잡도\n",
    "    - N + (N-1) + (N-1) + ... + 2\n",
    "    - N X (N+1) / 2 -> O(N<sup>2</sup>)\n",
    "        - 매우 비 효율적"
   ]
  },
  {
   "cell_type": "code",
   "execution_count": 1,
   "metadata": {},
   "outputs": [
    {
     "name": "stdout",
     "output_type": "stream",
     "text": [
      "[0, 1, 2, 3, 4, 5, 6, 7, 8, 9]\n"
     ]
    }
   ],
   "source": [
    "# 구현\n",
    "array = [7,5,9,0,3,1,6,2,4,8]\n",
    "\n",
    "for i in range(len(array)): # N-1 번 반복\n",
    "    min_num = min(array[i:]) # 정렬 안된 배열중 가장 작은 원소\n",
    "    min_index = array.index(min_num)\n",
    "    if array[i] > min_num:\n",
    "        array[i], array[min_index] = array[min_index], array[i] # 가장 작은 원소를 선택하여 맨 앞의 원소와 바꾸는 과정\n",
    "        \n",
    "print(array)"
   ]
  },
  {
   "cell_type": "markdown",
   "metadata": {},
   "source": [
    "## 삽입 정렬\n",
    "- 특정한 데이터를 적정한 위치에 \"삽입\"\n",
    "    - 데이터가 거의 정렬 되어있을 때 훨씬 효율적\n",
    "        - 필요할 때만 위치를 바꾸므로\n",
    "- 특정한 데이터가 삽입되기 전에, 그 앞까지의 데이터는 이미 정렬 되어있다고 가정\n",
    "    - 정렬된 리스트에서 적절한 위치를 찾은 다음에 삽입\n",
    "        - 특정 데이터보다 작은 데이터를 만나면 더 이상 데이터를 살펴볼 이유가 없음\n",
    "    - 두번째 데이터 부터 시작\n",
    "- 시간 복잡도\n",
    "    - 반복문 2번 사용 -> O(N<sup>2</sup>)\n",
    "    - 이미 거의 정렬된 리스트는 매우 빠르게 동작\n",
    "        - 최선의 경우 O(N)"
   ]
  },
  {
   "cell_type": "code",
   "execution_count": 3,
   "metadata": {},
   "outputs": [
    {
     "name": "stdout",
     "output_type": "stream",
     "text": [
      "[0, 1, 2, 3, 4, 5, 6, 7, 8, 9]\n"
     ]
    }
   ],
   "source": [
    "# 구현\n",
    "array = [7,5,9,0,3,1,6,2,4,8]\n",
    "\n",
    "for i in range(1,len(array)): # 두번째 데이터부터 N-1번 반복\n",
    "    for j in range(i,0,-1): # 인덱스 부터 1까지 확인\n",
    "        if array[j] < array[j-1]:  # 한 칸 씩 왼쪽으로 이동\n",
    "            array[j], array[j-1] = array[j-1], array[j]\n",
    "        else: # 자기보다 작은 데이터를 만나면 그 위치에서 멈춤 - 앞의 데이터는 이미 정렬되어있다고 가정\n",
    "            break\n",
    "            \n",
    "            \n",
    "print(array)"
   ]
  },
  {
   "cell_type": "markdown",
   "metadata": {},
   "source": [
    "## 퀵 정렬\n",
    "- 가장 많이 사용되는 정렬 알고리즘\n",
    "- 기준 데이터를 설정하고 그 기준보다 큰 데이터와 작은 데이터의 위치를 바꿈\n",
    "    - 기준 - 피벗\n",
    "        - 피벗 설정 방식\n",
    "            - 호어 분할 방식\n",
    "                - 리스트의 첫번째 데이터를 피벗으로 정함\n",
    "- 그 후 리스트를 반으로 나눔\n",
    "- 방법\n",
    "    - 1) 리스트에 첫번째 데이터를 피벗으로 설정\n",
    "    - 2) 이후 왼쪽에서부터 피벗보다 큰 데이터를 찾음, 맨 끝부터 피벗보다 작은 데이터를 찾음\n",
    "        - 2-1) 찾아지면 두 값의 위치를 바꾼다.\n",
    "        - 2-2) 왼쪽, 오른쪽 찾는값이 서로 뒤바뀌면, 피벗과 작은 데이터의 위치를 바꿈\n",
    "    - 3) 분할 완료\n",
    "        - 분할 or 파티션\n",
    "            - 2-2번에서 피벗의 왼쪽에는 피벗보다 작은 데이터, 오른쪽에는 피벗보다 큰 데이터\n",
    "    - 분할된 리스트에 대하여 1,2,3 단계 시행 -> 재귀적\n",
    "        - 종료 조건\n",
    "            - 분할된 리스트의 크기가 1인 경우\n",
    "- 시간복잡도\n",
    "    - O(NlogN)\n",
    "        - 컴퓨터 과학에서 logN = log<sub>2</sub>N\n",
    "    - 데이터가 무작위로 입력되는 경우 빠르게 동작\n",
    "    - 최악의 경우 - O(N<sup>2</sup>)\n",
    "        - 이미 데이터가 거의 다 정렬되어있는 경우"
   ]
  },
  {
   "cell_type": "code",
   "execution_count": 4,
   "metadata": {},
   "outputs": [
    {
     "name": "stdout",
     "output_type": "stream",
     "text": [
      "[0, 1, 2, 3, 4, 5, 6, 7, 8, 9]\n"
     ]
    }
   ],
   "source": [
    "# 구현\n",
    "array = [5,7,9,0,3,1,6,2,4,8]\n",
    "\n",
    "def quick_sort(array,start,end):\n",
    "    if start >= end:\n",
    "        return\n",
    "    pivot = start\n",
    "    left = start+1\n",
    "    right = end\n",
    "    \n",
    "    # 서로 엇갈릴때까지 반복\n",
    "    while left <= right:\n",
    "        \n",
    "        # 피벗보다 큰 데이터를 찾을 때까지 반복\n",
    "        while left <= end and array[left] <= array[pivot]:\n",
    "            left += 1 # left 왼쪽 -> 오른쪽으로 한칸씩 이동\n",
    "        # 피벗보다 작은 데이터를 찾을 때까지 반복\n",
    "        while right > start and array[right] >= array[pivot]:\n",
    "            right -= 1 # right 오른쪽 -> 왼쪽으로 한칸씩 이동\n",
    "            \n",
    "        # left = 피벗보다 큰 데이터, right = 피벗보다 작은 데이터\n",
    "        \n",
    "        # 엇갈릴경우 작은 데이터와 피벗을 교체\n",
    "        if left > right:\n",
    "            array[right], array[pivot] = array[pivot], array[right]\n",
    "        # 엇갈리지 않았다면 작은 데이터와 큰 데이터를 교체\n",
    "        else:\n",
    "            array[left], array[right] = array[right],array[left]\n",
    "    \n",
    "    # 분할 이후 왼쪽 부분과 오른쪽 부분에서 각각 정렬 수행\n",
    "    quick_sort(array,start,right-1)\n",
    "    quick_sort(array,right+1, end)\n",
    "    \n",
    "quick_sort(array,0,len(array)-1)\n",
    "print(array)"
   ]
  },
  {
   "cell_type": "code",
   "execution_count": 2,
   "metadata": {
    "scrolled": true
   },
   "outputs": [
    {
     "data": {
      "text/plain": [
       "[0, 1, 2, 3, 4, 5, 6, 7, 8, 9]"
      ]
     },
     "execution_count": 2,
     "metadata": {},
     "output_type": "execute_result"
    }
   ],
   "source": [
    "# 구현 - 파이썬 장점을 살림\n",
    "array = [5,7,9,0,3,1,6,2,4,8]\n",
    "\n",
    "def quick_sort(array):\n",
    "    # 리스트가 1개인 경우 종료\n",
    "    if len(array) <= 1:\n",
    "        return array\n",
    "    \n",
    "    pivot = array[0] # 피벗은 첫번째 데이터\n",
    "    after_list = array[1:] # 피벗을 제외한 리스트\n",
    "    \n",
    "    left_data = [x for x in after_list if x <= pivot]# 피벗보다 작거나 같은 데이터 -> 왼쪽 리스트\n",
    "    right_data = [x for x in after_list if x > pivot]# 피벗보다 큰 데이터 -> 오른쪽 리스트\n",
    "    \n",
    "    # 분할 이후 왼쪽과 오른쪽에서 각각 정렬 수행, 전체 리스트 반환\n",
    "    return quick_sort(left_data) + [pivot] + quick_sort(right_data)\n",
    "\n",
    "quick_sort(array)"
   ]
  },
  {
   "cell_type": "markdown",
   "metadata": {},
   "source": [
    "## 계수 정렬\n",
    "- 특정한 조건이 부합할 때만 사용할 수 있다.\n",
    "    - 데이터의 크기 범위가 제한되어 정수 형태로 표현할 수 있을때 만 사용\n",
    "        - 가장 큰 데이터와 가작 작은 데이터의 차이가 1,000,000을 넘지 않을때 효과적\n",
    "        - 이유\n",
    "            - 모든 범위를 담을 수 있는 크기의 배열을 선언해야 하기 때문\n",
    "- 매우 빠른 정렬 알고리즘\n",
    "- 별도의 리스트 선언\n",
    "    - 정렬에 대한 정보를 담는 리스트\n",
    "- 방법\n",
    "    - 1) 크기가 (최댓값 + 1) 인 리스트 생성\n",
    "        - 리스트의 모든 데이터 0 으로 초기화\n",
    "    - 2) 데이터의 값과 동일한 인덱스의 데이터를 1씩 증가\n",
    "- 출력\n",
    "    - 인덱스 값 X 해당 인덱스의 데이터 값 (개수)\n",
    "- 시간 복잡도\n",
    "    - O(N+K)\n",
    "        - N = 데이터의 개수, k = 데이터중 최대값의 크기\n",
    "    - 데이터의 크기 한정, 동일한 데이터가 여러개 등장할때 효율적"
   ]
  },
  {
   "cell_type": "code",
   "execution_count": 6,
   "metadata": {
    "scrolled": true
   },
   "outputs": [
    {
     "name": "stdout",
     "output_type": "stream",
     "text": [
      "0 1 2 3 3 4 5 5 5 6 7 7 7 8 9 "
     ]
    }
   ],
   "source": [
    "# 구현\n",
    "array = [7,5,9,0,3,1,6,5,7,4,3,5,7,8,2]\n",
    "\n",
    "# 새로운 리스트 생성\n",
    "count = [0]*(max(array) + 1)\n",
    "\n",
    "for i in range(len(array)):\n",
    "    count[array[i]] += 1\n",
    "    \n",
    "# 출력\n",
    "for i in range(len(count)):\n",
    "    for j in range(count[i]):\n",
    "        print(i, end= \" \")"
   ]
  }
 ],
 "metadata": {
  "kernelspec": {
   "display_name": "Python 3",
   "language": "python",
   "name": "python3"
  },
  "language_info": {
   "codemirror_mode": {
    "name": "ipython",
    "version": 3
   },
   "file_extension": ".py",
   "mimetype": "text/x-python",
   "name": "python",
   "nbconvert_exporter": "python",
   "pygments_lexer": "ipython3",
   "version": "3.7.9"
  }
 },
 "nbformat": 4,
 "nbformat_minor": 4
}
