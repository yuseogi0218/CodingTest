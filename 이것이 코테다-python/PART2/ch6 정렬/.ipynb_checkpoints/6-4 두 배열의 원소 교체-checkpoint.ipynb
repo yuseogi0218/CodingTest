{
 "cells": [
  {
   "cell_type": "markdown",
   "metadata": {},
   "source": [
    "## 문제\n",
    "- 동빈이는 두개의 배열 A와B를 가지고 있다.\n",
    "    - 두 배열은 N개의 원소로 구성되어 있다. - 자연수\n",
    "- 최대 K번의 바꿔치기 연산을 수행\n",
    "    - 배열 A 와 배열B에서 원소 하나씩 골라 서로 바꾸는 연산\n",
    "- 최종 목표 \n",
    "    - 배열 A의 모든 원소의 합이 최대가 되도록 하는 것\n",
    "    \n",
    "## 입력\n",
    "- 첫째줄에 N,K 공백으로 구분되어 입력 (1<= N <= 100,000, 0<= K <=N)\n",
    "- 두 번째 줄에 배열 A의 원소들 (<=10,000,000)\n",
    "- 세 번째 줄에 배열 B의 원소들 (<=10,000,000)\n",
    "\n",
    "## 출력\n",
    "- 바꿔치기 후 배열 A의 모든 원소의 합"
   ]
  },
  {
   "cell_type": "markdown",
   "metadata": {},
   "source": [
    "**아이디어**\n",
    "- 각각의 배열을 정렬\n",
    "- 배열 A의 가장 작은 원소 <-> 배열 B의 가장 큰 원소\n",
    "    - A의 원소 < B의 원소 일때만 실행\n",
    "        - A = 내림차순\n",
    "        - B = 오름차순"
   ]
  },
  {
   "cell_type": "code",
   "execution_count": 6,
   "metadata": {},
   "outputs": [
    {
     "name": "stdout",
     "output_type": "stream",
     "text": [
      "5 3\n",
      "1 2 5 4 3\n",
      "5 5 6 6 5\n",
      "26\n"
     ]
    }
   ],
   "source": [
    "N,K = map(int,input().split())\n",
    "\n",
    "A = list(map(int,input().split()))\n",
    "B = list(map(int,input().split()))\n",
    "\n",
    "# 정렬\n",
    "A.sort()\n",
    "B.sort(reverse = True)\n",
    "\n",
    "# 첫번째 원소부터 확인하며, 두 배열의 원소를 최대 K번 비교\n",
    "for i in range(K):\n",
    "    if A[i] < B[i]:\n",
    "        A[i],B[i] = B[i],A[i]\n",
    "    else:\n",
    "        break\n",
    "        \n",
    "print(sum(A))"
   ]
  }
 ],
 "metadata": {
  "kernelspec": {
   "display_name": "Python 3",
   "language": "python",
   "name": "python3"
  },
  "language_info": {
   "codemirror_mode": {
    "name": "ipython",
    "version": 3
   },
   "file_extension": ".py",
   "mimetype": "text/x-python",
   "name": "python",
   "nbconvert_exporter": "python",
   "pygments_lexer": "ipython3",
   "version": "3.7.9"
  }
 },
 "nbformat": 4,
 "nbformat_minor": 4
}
